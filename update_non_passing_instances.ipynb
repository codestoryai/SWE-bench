{
 "cells": [
  {
   "cell_type": "code",
   "execution_count": 36,
   "metadata": {},
   "outputs": [],
   "source": [
    "track_runs_sheet_path = \"runs_sheet.json\"\n",
    "non_passing_instances_path = \"eval_scripts/non_passing_instances.txt\"\n",
    "instance_id_column_name = \"instance_id\"\n",
    "solved_column_name = \"solved\"\n",
    "OVERALL_column_name = \"OVERALL\"\n",
    "bench_log_path = \"eval_scripts/bench_log.txt\"\n",
    "\n",
    "from swebench.google_sheets import get_column_values, get_rows_as_dicts"
   ]
  },
  {
   "cell_type": "code",
   "execution_count": 37,
   "metadata": {},
   "outputs": [
    {
     "name": "stdout",
     "output_type": "stream",
     "text": [
      "Original non-passing instances: 234\n",
      "Original passing instances: 266\n",
      "Original pass %: 53.20%\n"
     ]
    }
   ],
   "source": [
    "# open file\n",
    "try:\n",
    "    with open(non_passing_instances_path, \"r\") as file:\n",
    "        non_passing_instances = file.readlines()\n",
    "except FileNotFoundError:\n",
    "    raise Exception(f\"The file at {non_passing_instances_path} does not exist.\")\n",
    "\n",
    "total_instances = 500\n",
    "original_non_passing_instances_count = len(non_passing_instances)\n",
    "original_passing_instances_count = total_instances - original_non_passing_instances_count\n",
    "original_passing_percentage = original_passing_instances_count / total_instances * 100\n",
    "\n",
    "print(f\"Original non-passing instances: {original_non_passing_instances_count}\")\n",
    "print(f\"Original passing instances: {original_passing_instances_count}\")\n",
    "print(f\"Original pass %: {original_passing_percentage:.2f}%\")"
   ]
  },
  {
   "cell_type": "code",
   "execution_count": 38,
   "metadata": {},
   "outputs": [],
   "source": [
    "# Load our runs sheet details for access through api\n",
    "import json\n",
    "\n",
    "with open(track_runs_sheet_path, \"r\") as file:\n",
    "    runs_sheet = json.load(file)\n",
    "\n",
    "log_sheet_id, sheet_id, sheet_name = runs_sheet[\"LOG_SHEET_ID\"], runs_sheet[\"SHEET_ID\"], runs_sheet[\"LOG_SHEET_NAME\"]\n",
    "\n",
    "if log_sheet_id is None or sheet_id is None or sheet_name is None:\n",
    "    raise Exception(\"Sheet ID or name is None\")\n"
   ]
  },
  {
   "cell_type": "code",
   "execution_count": 39,
   "metadata": {},
   "outputs": [
    {
     "name": "stderr",
     "output_type": "stream",
     "text": [
      "2024-12-11 12:19:27,176 - googleapiclient.discovery_cache - INFO - file_cache is only supported with oauth2client<4.0.0\n"
     ]
    },
    {
     "name": "stdout",
     "output_type": "stream",
     "text": [
      "[{'instance_id': 'django__django-17029', 'solved': '5', 'OVERALL': 'FALSE'}, {'instance_id': 'matplotlib__matplotlib-26342', 'solved': '4', 'OVERALL': 'FALSE'}, {'instance_id': 'pytest-dev__pytest-5809', 'solved': '4', 'OVERALL': 'FALSE'}, {'instance_id': 'pytest-dev__pytest-6202', 'solved': '4', 'OVERALL': 'FALSE'}, {'instance_id': 'pytest-dev__pytest-7205', 'solved': '4', 'OVERALL': 'FALSE'}, {'instance_id': 'pytest-dev__pytest-7571', 'solved': '4', 'OVERALL': 'FALSE'}, {'instance_id': 'pytest-dev__pytest-7982', 'solved': '4', 'OVERALL': 'FALSE'}, {'instance_id': 'pytest-dev__pytest-8399', 'solved': '4', 'OVERALL': 'FALSE'}, {'instance_id': 'scikit-learn__scikit-learn-11578', 'solved': '4', 'OVERALL': 'FALSE'}, {'instance_id': 'scikit-learn__scikit-learn-26323', 'solved': '4', 'OVERALL': 'FALSE'}, {'instance_id': 'sphinx-doc__sphinx-8475', 'solved': '4', 'OVERALL': 'FALSE'}, {'instance_id': 'sympy__sympy-13372', 'solved': '4', 'OVERALL': 'FALSE'}, {'instance_id': 'sympy__sympy-16450', 'solved': '4', 'OVERALL': 'FALSE'}, {'instance_id': 'sympy__sympy-17655', 'solved': '4', 'OVERALL': 'FALSE'}, {'instance_id': 'sympy__sympy-20801', 'solved': '4', 'OVERALL': 'FALSE'}, {'instance_id': 'astropy__astropy-14539', 'solved': '4', 'OVERALL': 'FALSE'}, {'instance_id': 'pytest-dev__pytest-7521', 'solved': '4', 'OVERALL': 'FALSE'}, {'instance_id': 'scikit-learn__scikit-learn-25931', 'solved': '4', 'OVERALL': 'FALSE'}, {'instance_id': 'sympy__sympy-23262', 'solved': '4', 'OVERALL': 'FALSE'}, {'instance_id': 'pytest-dev__pytest-10081', 'solved': '3', 'OVERALL': 'FALSE'}, {'instance_id': 'django__django-11740', 'solved': '3', 'OVERALL': 'FALSE'}, {'instance_id': 'django__django-13406', 'solved': '3', 'OVERALL': 'FALSE'}, {'instance_id': 'pydata__xarray-6744', 'solved': '3', 'OVERALL': 'FALSE'}, {'instance_id': 'pylint-dev__pylint-6528', 'solved': '3', 'OVERALL': 'FALSE'}, {'instance_id': 'pytest-dev__pytest-5631', 'solved': '3', 'OVERALL': 'FALSE'}, {'instance_id': 'pytest-dev__pytest-7432', 'solved': '3', 'OVERALL': 'FALSE'}, {'instance_id': 'scikit-learn__scikit-learn-25973', 'solved': '3', 'OVERALL': 'FALSE'}, {'instance_id': 'sympy__sympy-17139', 'solved': '3', 'OVERALL': 'FALSE'}, {'instance_id': 'sympy__sympy-20154', 'solved': '3', 'OVERALL': 'FALSE'}, {'instance_id': 'sympy__sympy-23824', 'solved': '3', 'OVERALL': 'FALSE'}, {'instance_id': 'django__django-13449', 'solved': '3', 'OVERALL': 'FALSE'}, {'instance_id': 'django__django-14580', 'solved': '3', 'OVERALL': 'FALSE'}, {'instance_id': 'django__django-14999', 'solved': '3', 'OVERALL': 'FALSE'}, {'instance_id': 'matplotlib__matplotlib-22865', 'solved': '3', 'OVERALL': 'FALSE'}, {'instance_id': 'scikit-learn__scikit-learn-25232', 'solved': '3', 'OVERALL': 'FALSE'}, {'instance_id': 'sympy__sympy-12419', 'solved': '3', 'OVERALL': 'FALSE'}, {'instance_id': 'astropy__astropy-14508', 'solved': '2', 'OVERALL': 'FALSE'}, {'instance_id': 'django__django-15268', 'solved': '2', 'OVERALL': 'FALSE'}, {'instance_id': 'django__django-11265', 'solved': '2', 'OVERALL': 'FALSE'}, {'instance_id': 'django__django-12125', 'solved': '2', 'OVERALL': 'FALSE'}, {'instance_id': 'django__django-12774', 'solved': '2', 'OVERALL': 'FALSE'}, {'instance_id': 'django__django-12858', 'solved': '2', 'OVERALL': 'FALSE'}, {'instance_id': 'django__django-14122', 'solved': '2', 'OVERALL': 'FALSE'}, {'instance_id': 'django__django-16032', 'solved': '2', 'OVERALL': 'FALSE'}, {'instance_id': 'pydata__xarray-4094', 'solved': '2', 'OVERALL': 'FALSE'}, {'instance_id': 'pydata__xarray-4695', 'solved': '2', 'OVERALL': 'FALSE'}, {'instance_id': 'pytest-dev__pytest-7236', 'solved': '2', 'OVERALL': 'FALSE'}, {'instance_id': 'sphinx-doc__sphinx-7440', 'solved': '2', 'OVERALL': 'FALSE'}, {'instance_id': 'sphinx-doc__sphinx-8035', 'solved': '2', 'OVERALL': 'FALSE'}, {'instance_id': 'sphinx-doc__sphinx-8120', 'solved': '2', 'OVERALL': 'FALSE'}, {'instance_id': 'sympy__sympy-15345', 'solved': '2', 'OVERALL': 'FALSE'}, {'instance_id': 'sympy__sympy-15875', 'solved': '2', 'OVERALL': 'FALSE'}, {'instance_id': 'sympy__sympy-19495', 'solved': '2', 'OVERALL': 'FALSE'}, {'instance_id': 'sympy__sympy-23534', 'solved': '2', 'OVERALL': 'FALSE'}, {'instance_id': 'astropy__astropy-7606', 'solved': '2', 'OVERALL': 'FALSE'}, {'instance_id': 'django__django-13158', 'solved': '2', 'OVERALL': 'FALSE'}, {'instance_id': 'django__django-13346', 'solved': '2', 'OVERALL': 'FALSE'}, {'instance_id': 'matplotlib__matplotlib-25311', 'solved': '2', 'OVERALL': 'FALSE'}, {'instance_id': 'pydata__xarray-6721', 'solved': '2', 'OVERALL': 'FALSE'}, {'instance_id': 'scikit-learn__scikit-learn-25102', 'solved': '2', 'OVERALL': 'FALSE'}, {'instance_id': 'django__django-14140', 'solved': '1', 'OVERALL': 'FALSE'}, {'instance_id': 'django__django-14559', 'solved': '1', 'OVERALL': 'FALSE'}, {'instance_id': 'pytest-dev__pytest-5262', 'solved': '1', 'OVERALL': 'FALSE'}, {'instance_id': 'pytest-dev__pytest-7490', 'solved': '1', 'OVERALL': 'FALSE'}, {'instance_id': 'sphinx-doc__sphinx-7757', 'solved': '1', 'OVERALL': 'FALSE'}, {'instance_id': 'astropy__astropy-13453', 'solved': '1', 'OVERALL': 'FALSE'}, {'instance_id': 'astropy__astropy-14369', 'solved': '1', 'OVERALL': 'FALSE'}, {'instance_id': 'astropy__astropy-14598', 'solved': '1', 'OVERALL': 'FALSE'}, {'instance_id': 'django__django-10097', 'solved': '1', 'OVERALL': 'FALSE'}, {'instance_id': 'django__django-11490', 'solved': '1', 'OVERALL': 'FALSE'}, {'instance_id': 'django__django-14311', 'solved': '1', 'OVERALL': 'FALSE'}, {'instance_id': 'django__django-15375', 'solved': '1', 'OVERALL': 'FALSE'}, {'instance_id': 'pydata__xarray-4687', 'solved': '1', 'OVERALL': 'FALSE'}, {'instance_id': 'pydata__xarray-7393', 'solved': '1', 'OVERALL': 'FALSE'}, {'instance_id': 'pylint-dev__pylint-7080', 'solved': '1', 'OVERALL': 'FALSE'}, {'instance_id': 'sphinx-doc__sphinx-7985', 'solved': '1', 'OVERALL': 'FALSE'}, {'instance_id': 'sphinx-doc__sphinx-9230', 'solved': '1', 'OVERALL': 'FALSE'}, {'instance_id': 'sphinx-doc__sphinx-9258', 'solved': '1', 'OVERALL': 'FALSE'}, {'instance_id': 'sphinx-doc__sphinx-9658', 'solved': '1', 'OVERALL': 'FALSE'}, {'instance_id': 'sympy__sympy-15599', 'solved': '1', 'OVERALL': 'FALSE'}, {'instance_id': 'django__django-11206', 'solved': '1', 'OVERALL': 'FALSE'}, {'instance_id': 'django__django-11555', 'solved': '1', 'OVERALL': 'FALSE'}, {'instance_id': 'django__django-11790', 'solved': '1', 'OVERALL': 'FALSE'}, {'instance_id': 'django__django-11848', 'solved': '1', 'OVERALL': 'FALSE'}, {'instance_id': 'django__django-12308', 'solved': '1', 'OVERALL': 'FALSE'}, {'instance_id': 'django__django-13568', 'solved': '1', 'OVERALL': 'FALSE'}, {'instance_id': 'django__django-14631', 'solved': '1', 'OVERALL': 'FALSE'}, {'instance_id': 'django__django-15127', 'solved': '1', 'OVERALL': 'FALSE'}, {'instance_id': 'django__django-16315', 'solved': '1', 'OVERALL': 'FALSE'}, {'instance_id': 'django__django-17084', 'solved': '1', 'OVERALL': 'FALSE'}, {'instance_id': 'matplotlib__matplotlib-14623', 'solved': '1', 'OVERALL': 'FALSE'}, {'instance_id': 'psf__requests-2931', 'solved': '1', 'OVERALL': 'FALSE'}, {'instance_id': 'pydata__xarray-6599', 'solved': '1', 'OVERALL': 'FALSE'}, {'instance_id': 'sphinx-doc__sphinx-9591', 'solved': '1', 'OVERALL': 'FALSE'}, {'instance_id': 'sympy__sympy-13757', 'solved': '1', 'OVERALL': 'FALSE'}, {'instance_id': 'sympy__sympy-13877', 'solved': '1', 'OVERALL': 'FALSE'}, {'instance_id': 'sympy__sympy-18698', 'solved': '1', 'OVERALL': 'FALSE'}, {'instance_id': 'django__django-11299', 'solved': '0', 'OVERALL': 'FALSE'}, {'instance_id': 'pylint-dev__pylint-4970', 'solved': '0', 'OVERALL': 'FALSE'}, {'instance_id': 'sympy__sympy-18211', 'solved': '0', 'OVERALL': 'FALSE'}, {'instance_id': 'astropy__astropy-13033', 'solved': '0', 'OVERALL': 'FALSE'}, {'instance_id': 'astropy__astropy-13236', 'solved': '0', 'OVERALL': 'FALSE'}, {'instance_id': 'astropy__astropy-13398', 'solved': '0', 'OVERALL': 'FALSE'}, {'instance_id': 'astropy__astropy-13977', 'solved': '0', 'OVERALL': 'FALSE'}, {'instance_id': 'astropy__astropy-14182', 'solved': '0', 'OVERALL': 'FALSE'}, {'instance_id': 'astropy__astropy-14365', 'solved': '0', 'OVERALL': 'FALSE'}, {'instance_id': 'astropy__astropy-8707', 'solved': '0', 'OVERALL': 'FALSE'}, {'instance_id': 'astropy__astropy-8872', 'solved': '0', 'OVERALL': 'FALSE'}, {'instance_id': 'django__django-10554', 'solved': '0', 'OVERALL': 'FALSE'}, {'instance_id': 'django__django-10999', 'solved': '0', 'OVERALL': 'FALSE'}, {'instance_id': 'django__django-11087', 'solved': '0', 'OVERALL': 'FALSE'}, {'instance_id': 'django__django-11138', 'solved': '0', 'OVERALL': 'FALSE'}, {'instance_id': 'django__django-11141', 'solved': '0', 'OVERALL': 'FALSE'}, {'instance_id': 'django__django-11239', 'solved': '0', 'OVERALL': 'FALSE'}, {'instance_id': 'django__django-11400', 'solved': '0', 'OVERALL': 'FALSE'}, {'instance_id': 'django__django-11433', 'solved': '0', 'OVERALL': 'FALSE'}, {'instance_id': 'django__django-11477', 'solved': '0', 'OVERALL': 'FALSE'}, {'instance_id': 'django__django-11728', 'solved': '0', 'OVERALL': 'FALSE'}, {'instance_id': 'django__django-11734', 'solved': '0', 'OVERALL': 'FALSE'}, {'instance_id': 'django__django-11820', 'solved': '0', 'OVERALL': 'FALSE'}, {'instance_id': 'django__django-11885', 'solved': '0', 'OVERALL': 'FALSE'}, {'instance_id': 'django__django-12325', 'solved': '0', 'OVERALL': 'FALSE'}, {'instance_id': 'django__django-12406', 'solved': '0', 'OVERALL': 'FALSE'}, {'instance_id': 'django__django-13195', 'solved': '0', 'OVERALL': 'FALSE'}, {'instance_id': 'django__django-13212', 'solved': '0', 'OVERALL': 'FALSE'}, {'instance_id': 'django__django-13344', 'solved': '0', 'OVERALL': 'FALSE'}, {'instance_id': 'django__django-13513', 'solved': '0', 'OVERALL': 'FALSE'}, {'instance_id': 'django__django-13551', 'solved': '0', 'OVERALL': 'FALSE'}, {'instance_id': 'django__django-13794', 'solved': '0', 'OVERALL': 'FALSE'}, {'instance_id': 'django__django-13807', 'solved': '0', 'OVERALL': 'FALSE'}, {'instance_id': 'django__django-14011', 'solved': '0', 'OVERALL': 'FALSE'}, {'instance_id': 'django__django-14034', 'solved': '0', 'OVERALL': 'FALSE'}, {'instance_id': 'django__django-14155', 'solved': '0', 'OVERALL': 'FALSE'}, {'instance_id': 'django__django-14170', 'solved': '0', 'OVERALL': 'FALSE'}, {'instance_id': 'django__django-14315', 'solved': '0', 'OVERALL': 'FALSE'}, {'instance_id': 'django__django-14351', 'solved': '0', 'OVERALL': 'FALSE'}, {'instance_id': 'django__django-14534', 'solved': '0', 'OVERALL': 'FALSE'}, {'instance_id': 'django__django-14725', 'solved': '0', 'OVERALL': 'FALSE'}, {'instance_id': 'django__django-14792', 'solved': '0', 'OVERALL': 'FALSE'}, {'instance_id': 'django__django-15098', 'solved': '0', 'OVERALL': 'FALSE'}, {'instance_id': 'django__django-15252', 'solved': '0', 'OVERALL': 'FALSE'}, {'instance_id': 'django__django-15280', 'solved': '0', 'OVERALL': 'FALSE'}, {'instance_id': 'django__django-15503', 'solved': '0', 'OVERALL': 'FALSE'}, {'instance_id': 'django__django-15554', 'solved': '0', 'OVERALL': 'FALSE'}, {'instance_id': 'django__django-15563', 'solved': '0', 'OVERALL': 'FALSE'}, {'instance_id': 'django__django-15629', 'solved': '0', 'OVERALL': 'FALSE'}, {'instance_id': 'django__django-15695', 'solved': '0', 'OVERALL': 'FALSE'}, {'instance_id': 'django__django-15732', 'solved': '0', 'OVERALL': 'FALSE'}, {'instance_id': 'django__django-15957', 'solved': '0', 'OVERALL': 'FALSE'}, {'instance_id': 'django__django-15973', 'solved': '0', 'OVERALL': 'FALSE'}, {'instance_id': 'django__django-16256', 'solved': '0', 'OVERALL': 'FALSE'}, {'instance_id': 'django__django-16263', 'solved': '0', 'OVERALL': 'FALSE'}, {'instance_id': 'django__django-16502', 'solved': '0', 'OVERALL': 'FALSE'}, {'instance_id': 'django__django-16560', 'solved': '0', 'OVERALL': 'FALSE'}, {'instance_id': 'django__django-16631', 'solved': '0', 'OVERALL': 'FALSE'}, {'instance_id': 'django__django-16667', 'solved': '0', 'OVERALL': 'FALSE'}, {'instance_id': 'django__django-16938', 'solved': '0', 'OVERALL': 'FALSE'}, {'instance_id': 'django__django-16950', 'solved': '0', 'OVERALL': 'FALSE'}, {'instance_id': 'matplotlib__matplotlib-20488', 'solved': '0', 'OVERALL': 'FALSE'}, {'instance_id': 'matplotlib__matplotlib-20826', 'solved': '0', 'OVERALL': 'FALSE'}, {'instance_id': 'matplotlib__matplotlib-21568', 'solved': '0', 'OVERALL': 'FALSE'}, {'instance_id': 'matplotlib__matplotlib-22871', 'solved': '0', 'OVERALL': 'FALSE'}, {'instance_id': 'matplotlib__matplotlib-23299', 'solved': '0', 'OVERALL': 'FALSE'}, {'instance_id': 'matplotlib__matplotlib-23476', 'solved': '0', 'OVERALL': 'FALSE'}, {'instance_id': 'matplotlib__matplotlib-24177', 'solved': '0', 'OVERALL': 'FALSE'}, {'instance_id': 'matplotlib__matplotlib-24637', 'solved': '0', 'OVERALL': 'FALSE'}, {'instance_id': 'matplotlib__matplotlib-24870', 'solved': '0', 'OVERALL': 'FALSE'}, {'instance_id': 'matplotlib__matplotlib-25479', 'solved': '0', 'OVERALL': 'FALSE'}, {'instance_id': 'matplotlib__matplotlib-25960', 'solved': '0', 'OVERALL': 'FALSE'}, {'instance_id': 'matplotlib__matplotlib-26208', 'solved': '0', 'OVERALL': 'FALSE'}, {'instance_id': 'matplotlib__matplotlib-26466', 'solved': '0', 'OVERALL': 'FALSE'}, {'instance_id': 'mwaskom__seaborn-3069', 'solved': '0', 'OVERALL': 'FALSE'}, {'instance_id': 'mwaskom__seaborn-3187', 'solved': '0', 'OVERALL': 'FALSE'}, {'instance_id': 'psf__requests-6028', 'solved': '0', 'OVERALL': 'FALSE'}, {'instance_id': 'pydata__xarray-6938', 'solved': '0', 'OVERALL': 'FALSE'}, {'instance_id': 'pydata__xarray-6992', 'solved': '0', 'OVERALL': 'FALSE'}, {'instance_id': 'pydata__xarray-7229', 'solved': '0', 'OVERALL': 'FALSE'}, {'instance_id': 'pylint-dev__pylint-4551', 'solved': '0', 'OVERALL': 'FALSE'}, {'instance_id': 'pylint-dev__pylint-4604', 'solved': '0', 'OVERALL': 'FALSE'}, {'instance_id': 'pylint-dev__pylint-4661', 'solved': '0', 'OVERALL': 'FALSE'}, {'instance_id': 'pylint-dev__pylint-6386', 'solved': '0', 'OVERALL': 'FALSE'}, {'instance_id': 'pylint-dev__pylint-8898', 'solved': '0', 'OVERALL': 'FALSE'}, {'instance_id': 'pytest-dev__pytest-10051', 'solved': '0', 'OVERALL': 'FALSE'}, {'instance_id': 'pytest-dev__pytest-10356', 'solved': '0', 'OVERALL': 'FALSE'}, {'instance_id': 'pytest-dev__pytest-5787', 'solved': '0', 'OVERALL': 'FALSE'}, {'instance_id': 'pytest-dev__pytest-5840', 'solved': '0', 'OVERALL': 'FALSE'}, {'instance_id': 'pytest-dev__pytest-6197', 'solved': '0', 'OVERALL': 'FALSE'}, {'instance_id': 'pytest-dev__pytest-7324', 'solved': '0', 'OVERALL': 'FALSE'}, {'instance_id': 'scikit-learn__scikit-learn-14629', 'solved': '0', 'OVERALL': 'FALSE'}, {'instance_id': 'scikit-learn__scikit-learn-26194', 'solved': '0', 'OVERALL': 'FALSE'}, {'instance_id': 'sphinx-doc__sphinx-10323', 'solved': '0', 'OVERALL': 'FALSE'}, {'instance_id': 'sphinx-doc__sphinx-10435', 'solved': '0', 'OVERALL': 'FALSE'}, {'instance_id': 'sphinx-doc__sphinx-10614', 'solved': '0', 'OVERALL': 'FALSE'}, {'instance_id': 'sphinx-doc__sphinx-11445', 'solved': '0', 'OVERALL': 'FALSE'}, {'instance_id': 'sphinx-doc__sphinx-11510', 'solved': '0', 'OVERALL': 'FALSE'}, {'instance_id': 'sphinx-doc__sphinx-7462', 'solved': '0', 'OVERALL': 'FALSE'}, {'instance_id': 'sphinx-doc__sphinx-7590', 'solved': '0', 'OVERALL': 'FALSE'}, {'instance_id': 'sphinx-doc__sphinx-7748', 'solved': '0', 'OVERALL': 'FALSE'}, {'instance_id': 'sphinx-doc__sphinx-8056', 'solved': '0', 'OVERALL': 'FALSE'}, {'instance_id': 'sphinx-doc__sphinx-8265', 'solved': '0', 'OVERALL': 'FALSE'}, {'instance_id': 'sphinx-doc__sphinx-8548', 'solved': '0', 'OVERALL': 'FALSE'}, {'instance_id': 'sphinx-doc__sphinx-8551', 'solved': '0', 'OVERALL': 'FALSE'}, {'instance_id': 'sphinx-doc__sphinx-8621', 'solved': '0', 'OVERALL': 'FALSE'}, {'instance_id': 'sphinx-doc__sphinx-8638', 'solved': '0', 'OVERALL': 'FALSE'}, {'instance_id': 'sphinx-doc__sphinx-9229', 'solved': '0', 'OVERALL': 'FALSE'}, {'instance_id': 'sphinx-doc__sphinx-9461', 'solved': '0', 'OVERALL': 'FALSE'}, {'instance_id': 'sphinx-doc__sphinx-9602', 'solved': '0', 'OVERALL': 'FALSE'}, {'instance_id': 'sphinx-doc__sphinx-9673', 'solved': '0', 'OVERALL': 'FALSE'}, {'instance_id': 'sympy__sympy-12489', 'solved': '0', 'OVERALL': 'FALSE'}, {'instance_id': 'sympy__sympy-13091', 'solved': '0', 'OVERALL': 'FALSE'}, {'instance_id': 'sympy__sympy-13551', 'solved': '0', 'OVERALL': 'FALSE'}, {'instance_id': 'sympy__sympy-13615', 'solved': '0', 'OVERALL': 'FALSE'}, {'instance_id': 'sympy__sympy-13798', 'solved': '0', 'OVERALL': 'FALSE'}, {'instance_id': 'sympy__sympy-13852', 'solved': '0', 'OVERALL': 'FALSE'}, {'instance_id': 'sympy__sympy-13974', 'solved': '0', 'OVERALL': 'FALSE'}, {'instance_id': 'sympy__sympy-14248', 'solved': '0', 'OVERALL': 'FALSE'}, {'instance_id': 'sympy__sympy-15976', 'solved': '0', 'OVERALL': 'FALSE'}, {'instance_id': 'sympy__sympy-16597', 'solved': '0', 'OVERALL': 'FALSE'}, {'instance_id': 'sympy__sympy-17318', 'solved': '0', 'OVERALL': 'FALSE'}, {'instance_id': 'sympy__sympy-17630', 'solved': '0', 'OVERALL': 'FALSE'}, {'instance_id': 'sympy__sympy-18199', 'solved': '0', 'OVERALL': 'FALSE'}, {'instance_id': 'sympy__sympy-19040', 'solved': '0', 'OVERALL': 'FALSE'}, {'instance_id': 'sympy__sympy-20428', 'solved': '0', 'OVERALL': 'FALSE'}, {'instance_id': 'sympy__sympy-20438', 'solved': '0', 'OVERALL': 'FALSE'}, {'instance_id': 'sympy__sympy-20916', 'solved': '0', 'OVERALL': 'FALSE'}, {'instance_id': 'sympy__sympy-21379', 'solved': '0', 'OVERALL': 'FALSE'}, {'instance_id': 'sympy__sympy-21596', 'solved': '0', 'OVERALL': 'FALSE'}, {'instance_id': 'sympy__sympy-21612', 'solved': '0', 'OVERALL': 'FALSE'}, {'instance_id': 'sympy__sympy-21930', 'solved': '0', 'OVERALL': 'FALSE'}, {'instance_id': 'sympy__sympy-22080', 'solved': '0', 'OVERALL': 'FALSE'}, {'instance_id': 'sympy__sympy-23413', 'solved': '0', 'OVERALL': 'FALSE'}, {'instance_id': 'sympy__sympy-24562', 'solved': '0', 'OVERALL': 'FALSE'}]\n",
      "['django__django-17029', 'matplotlib__matplotlib-26342', 'pytest-dev__pytest-5809', 'pytest-dev__pytest-6202', 'pytest-dev__pytest-7205', 'pytest-dev__pytest-7571', 'pytest-dev__pytest-7982', 'pytest-dev__pytest-8399', 'scikit-learn__scikit-learn-11578', 'scikit-learn__scikit-learn-26323', 'sphinx-doc__sphinx-8475', 'sympy__sympy-13372', 'sympy__sympy-16450', 'sympy__sympy-17655', 'sympy__sympy-20801', 'astropy__astropy-14539', 'pytest-dev__pytest-7521', 'scikit-learn__scikit-learn-25931', 'sympy__sympy-23262', 'pytest-dev__pytest-10081', 'django__django-11740', 'django__django-13406', 'pydata__xarray-6744', 'pylint-dev__pylint-6528', 'pytest-dev__pytest-5631', 'pytest-dev__pytest-7432', 'scikit-learn__scikit-learn-25973', 'sympy__sympy-17139', 'sympy__sympy-20154', 'sympy__sympy-23824', 'django__django-13449', 'django__django-14580', 'django__django-14999', 'matplotlib__matplotlib-22865', 'scikit-learn__scikit-learn-25232', 'sympy__sympy-12419', 'astropy__astropy-14508', 'django__django-15268', 'django__django-11265', 'django__django-12125', 'django__django-12774', 'django__django-12858', 'django__django-14122', 'django__django-16032', 'pydata__xarray-4094', 'pydata__xarray-4695', 'pytest-dev__pytest-7236', 'sphinx-doc__sphinx-7440', 'sphinx-doc__sphinx-8035', 'sphinx-doc__sphinx-8120', 'sympy__sympy-15345', 'sympy__sympy-15875', 'sympy__sympy-19495', 'sympy__sympy-23534', 'astropy__astropy-7606', 'django__django-13158', 'django__django-13346', 'matplotlib__matplotlib-25311', 'pydata__xarray-6721', 'scikit-learn__scikit-learn-25102', 'django__django-14140', 'django__django-14559', 'pytest-dev__pytest-5262', 'pytest-dev__pytest-7490', 'sphinx-doc__sphinx-7757', 'astropy__astropy-13453', 'astropy__astropy-14369', 'astropy__astropy-14598', 'django__django-10097', 'django__django-11490', 'django__django-14311', 'django__django-15375', 'pydata__xarray-4687', 'pydata__xarray-7393', 'pylint-dev__pylint-7080', 'sphinx-doc__sphinx-7985', 'sphinx-doc__sphinx-9230', 'sphinx-doc__sphinx-9258', 'sphinx-doc__sphinx-9658', 'sympy__sympy-15599', 'django__django-11206', 'django__django-11555', 'django__django-11790', 'django__django-11848', 'django__django-12308', 'django__django-13568', 'django__django-14631', 'django__django-15127', 'django__django-16315', 'django__django-17084', 'matplotlib__matplotlib-14623', 'psf__requests-2931', 'pydata__xarray-6599', 'sphinx-doc__sphinx-9591', 'sympy__sympy-13757', 'sympy__sympy-13877', 'sympy__sympy-18698', 'django__django-11299', 'pylint-dev__pylint-4970', 'sympy__sympy-18211', 'astropy__astropy-13033', 'astropy__astropy-13236', 'astropy__astropy-13398', 'astropy__astropy-13977', 'astropy__astropy-14182', 'astropy__astropy-14365', 'astropy__astropy-8707', 'astropy__astropy-8872', 'django__django-10554', 'django__django-10999', 'django__django-11087', 'django__django-11138', 'django__django-11141', 'django__django-11239', 'django__django-11400', 'django__django-11433', 'django__django-11477', 'django__django-11728', 'django__django-11734', 'django__django-11820', 'django__django-11885', 'django__django-12325', 'django__django-12406', 'django__django-13195', 'django__django-13212', 'django__django-13344', 'django__django-13513', 'django__django-13551', 'django__django-13794', 'django__django-13807', 'django__django-14011', 'django__django-14034', 'django__django-14155', 'django__django-14170', 'django__django-14315', 'django__django-14351', 'django__django-14534', 'django__django-14725', 'django__django-14792', 'django__django-15098', 'django__django-15252', 'django__django-15280', 'django__django-15503', 'django__django-15554', 'django__django-15563', 'django__django-15629', 'django__django-15695', 'django__django-15732', 'django__django-15957', 'django__django-15973', 'django__django-16256', 'django__django-16263', 'django__django-16502', 'django__django-16560', 'django__django-16631', 'django__django-16667', 'django__django-16938', 'django__django-16950', 'matplotlib__matplotlib-20488', 'matplotlib__matplotlib-20826', 'matplotlib__matplotlib-21568', 'matplotlib__matplotlib-22871', 'matplotlib__matplotlib-23299', 'matplotlib__matplotlib-23476', 'matplotlib__matplotlib-24177', 'matplotlib__matplotlib-24637', 'matplotlib__matplotlib-24870', 'matplotlib__matplotlib-25479', 'matplotlib__matplotlib-25960', 'matplotlib__matplotlib-26208', 'matplotlib__matplotlib-26466', 'mwaskom__seaborn-3069', 'mwaskom__seaborn-3187', 'psf__requests-6028', 'pydata__xarray-6938', 'pydata__xarray-6992', 'pydata__xarray-7229', 'pylint-dev__pylint-4551', 'pylint-dev__pylint-4604', 'pylint-dev__pylint-4661', 'pylint-dev__pylint-6386', 'pylint-dev__pylint-8898', 'pytest-dev__pytest-10051', 'pytest-dev__pytest-10356', 'pytest-dev__pytest-5787', 'pytest-dev__pytest-5840', 'pytest-dev__pytest-6197', 'pytest-dev__pytest-7324', 'scikit-learn__scikit-learn-14629', 'scikit-learn__scikit-learn-26194', 'sphinx-doc__sphinx-10323', 'sphinx-doc__sphinx-10435', 'sphinx-doc__sphinx-10614', 'sphinx-doc__sphinx-11445', 'sphinx-doc__sphinx-11510', 'sphinx-doc__sphinx-7462', 'sphinx-doc__sphinx-7590', 'sphinx-doc__sphinx-7748', 'sphinx-doc__sphinx-8056', 'sphinx-doc__sphinx-8265', 'sphinx-doc__sphinx-8548', 'sphinx-doc__sphinx-8551', 'sphinx-doc__sphinx-8621', 'sphinx-doc__sphinx-8638', 'sphinx-doc__sphinx-9229', 'sphinx-doc__sphinx-9461', 'sphinx-doc__sphinx-9602', 'sphinx-doc__sphinx-9673', 'sympy__sympy-12489', 'sympy__sympy-13091', 'sympy__sympy-13551', 'sympy__sympy-13615', 'sympy__sympy-13798', 'sympy__sympy-13852', 'sympy__sympy-13974', 'sympy__sympy-14248', 'sympy__sympy-15976', 'sympy__sympy-16597', 'sympy__sympy-17318', 'sympy__sympy-17630', 'sympy__sympy-18199', 'sympy__sympy-19040', 'sympy__sympy-20428', 'sympy__sympy-20438', 'sympy__sympy-20916', 'sympy__sympy-21379', 'sympy__sympy-21596', 'sympy__sympy-21612', 'sympy__sympy-21930', 'sympy__sympy-22080', 'sympy__sympy-23413', 'sympy__sympy-24562']\n"
     ]
    }
   ],
   "source": [
    "# Get 3 columns: instance_id, solved, OVERALL\n",
    "columns = [instance_id_column_name, solved_column_name, OVERALL_column_name]\n",
    "rows = get_rows_as_dicts(log_sheet_id, sheet_name, columns)\n",
    "\n",
    "# Filter rows so that only those with FALSE remain\n",
    "non_passing_rows = [r for r in rows if r[OVERALL_column_name] == \"FALSE\"]\n",
    "\n",
    "# Sort based on solved count\n",
    "non_passing_rows.sort(key=lambda r: int(r[\"solved\"]), reverse=True)\n",
    "print(non_passing_rows)\n",
    "\n",
    "# Get just the instance_ids\n",
    "non_passing_instance_ids = [row[instance_id_column_name] for row in non_passing_rows]\n",
    "print(non_passing_instance_ids)"
   ]
  },
  {
   "cell_type": "code",
   "execution_count": 40,
   "metadata": {},
   "outputs": [
    {
     "name": "stdout",
     "output_type": "stream",
     "text": [
      "Old pass percentage: 53.20% (266)\n",
      "New pass percentage: 53.60% (268)\n"
     ]
    }
   ],
   "source": [
    "new_non_passing_instances_count = len(non_passing_instance_ids)\n",
    "new_passing_instances_count = total_instances - new_non_passing_instances_count\n",
    "new_passing_percentage = new_passing_instances_count / total_instances * 100\n",
    "print(f\"Old pass percentage: {original_passing_percentage:.2f}% ({original_passing_instances_count})\")\n",
    "print(f\"New pass percentage: {new_passing_percentage:.2f}% ({new_passing_instances_count})\")"
   ]
  },
  {
   "cell_type": "code",
   "execution_count": 41,
   "metadata": {},
   "outputs": [
    {
     "name": "stdout",
     "output_type": "stream",
     "text": [
      "232 non-passing instances written to eval_scripts/non_passing_instances.txt.\n"
     ]
    }
   ],
   "source": [
    "# Write non-passing instance_ids to eval_scripts/non_passing_instances.txt\n",
    "with open(non_passing_instances_path, \"w\") as file:\n",
    "    file.writelines(line + \"\\n\" for line in non_passing_instance_ids)\n",
    "\n",
    "print(f\"{new_non_passing_instances_count} non-passing instances written to {non_passing_instances_path}.\")\n"
   ]
  },
  {
   "cell_type": "code",
   "execution_count": 42,
   "metadata": {},
   "outputs": [
    {
     "name": "stdout",
     "output_type": "stream",
     "text": [
      "Updated bench log written to eval_scripts/bench_log.txt.\n"
     ]
    }
   ],
   "source": [
    "# Update bench log with new pass percentage along with timestamp\n",
    "from datetime import datetime\n",
    "\n",
    "timestamp = datetime.now().strftime(\"%Y-%m-%d %H:%M:%S\")\n",
    "\n",
    "with open(bench_log_path, \"a\") as file:\n",
    "    file.write(f\"{timestamp} - {new_passing_percentage:.2f}% ({new_passing_instances_count})\\n\")\n",
    "\n",
    "print(f\"Updated bench log written to {bench_log_path}.\")\n",
    "\n"
   ]
  }
 ],
 "metadata": {
  "kernelspec": {
   "display_name": "venv",
   "language": "python",
   "name": "python3"
  },
  "language_info": {
   "codemirror_mode": {
    "name": "ipython",
    "version": 3
   },
   "file_extension": ".py",
   "mimetype": "text/x-python",
   "name": "python",
   "nbconvert_exporter": "python",
   "pygments_lexer": "ipython3",
   "version": "3.9.12"
  }
 },
 "nbformat": 4,
 "nbformat_minor": 2
}
