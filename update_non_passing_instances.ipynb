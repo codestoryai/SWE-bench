{
 "cells": [
  {
   "cell_type": "code",
   "execution_count": 21,
   "metadata": {},
   "outputs": [],
   "source": [
    "track_runs_sheet_path = \"runs_sheet.json\"\n",
    "non_passing_instances_path = \"/Users/zi/codestory/SWE-bench/eval_scripts/instance_ids_django_others.txt\"\n",
    "instance_id_column_name = \"instance_id\"\n",
    "\n",
    "from swebench.google_sheets import get_column_values"
   ]
  },
  {
   "cell_type": "code",
   "execution_count": 22,
   "metadata": {},
   "outputs": [
    {
     "name": "stdout",
     "output_type": "stream",
     "text": [
      "Non passing instances:  391\n",
      "Passing instances:  109\n",
      "Pass %:  21.8\n"
     ]
    }
   ],
   "source": [
    "# open file\n",
    "with open(non_passing_instances_path, \"r\") as file:\n",
    "    non_passing_instances = file.readlines()\n",
    "\n",
    "total_instances = 500\n",
    "non_passing_instances_count = len(non_passing_instances)\n",
    "passing_instances_count = total_instances - non_passing_instances_count\n",
    "\n",
    "print(\"Non passing instances: \", non_passing_instances_count)\n",
    "print(\"Passing instances: \", passing_instances_count)\n",
    "print(\"Pass %: \", passing_instances_count / total_instances * 100)"
   ]
  },
  {
   "cell_type": "code",
   "execution_count": 23,
   "metadata": {},
   "outputs": [],
   "source": [
    "# Open our sheet\n",
    "import json\n",
    "\n",
    "with open(track_runs_sheet_path, \"r\") as file:\n",
    "    runs_sheet = json.load(file)\n",
    "\n",
    "log_sheet_id, sheet_id, sheet_name = runs_sheet[\"LOG_SHEET_ID\"], runs_sheet[\"SHEET_ID\"], runs_sheet[\"LOG_SHEET_NAME\"]\n",
    "\n",
    "if log_sheet_id is None or sheet_id is None or sheet_name is None:\n",
    "    raise Exception(\"Sheet ID or name is None\")\n"
   ]
  },
  {
   "cell_type": "code",
   "execution_count": 24,
   "metadata": {},
   "outputs": [
    {
     "name": "stderr",
     "output_type": "stream",
     "text": [
      "2024-12-10 12:35:04,170 - googleapiclient.discovery_cache - INFO - file_cache is only supported with oauth2client<4.0.0\n"
     ]
    },
    {
     "name": "stdout",
     "output_type": "stream",
     "text": [
      "Found  500  instance ids\n"
     ]
    }
   ],
   "source": [
    "# Get instance_id column\n",
    "instance_ids = get_column_values(log_sheet_id, sheet_name, instance_id_column_name)\n",
    "print(\"Found \", len(instance_ids), \" instance ids\")"
   ]
  },
  {
   "cell_type": "code",
   "execution_count": 25,
   "metadata": {},
   "outputs": [
    {
     "name": "stderr",
     "output_type": "stream",
     "text": [
      "2024-12-10 12:35:09,234 - googleapiclient.discovery_cache - INFO - file_cache is only supported with oauth2client<4.0.0\n"
     ]
    },
    {
     "name": "stdout",
     "output_type": "stream",
     "text": [
      "Found  500  values in  OVERALL  column\n"
     ]
    }
   ],
   "source": [
    "# Get OVERALL column\n",
    "overall_column_name = \"OVERALL\"\n",
    "overall_column_values = get_column_values(log_sheet_id, sheet_name, overall_column_name)\n",
    "\n",
    "print(f\"Found {len(overall_column_values)} values in {overall_column_name} column\")"
   ]
  },
  {
   "cell_type": "code",
   "execution_count": 26,
   "metadata": {},
   "outputs": [
    {
     "name": "stdout",
     "output_type": "stream",
     "text": [
      "Found 382 non-passing instances\n"
     ]
    }
   ],
   "source": [
    "# Get non-passing instances\n",
    "non_passing = []\n",
    "for i, overall_value in enumerate(overall_column_values):\n",
    "    if overall_value == \"FALSE\":\n",
    "        non_passing.append(instance_ids[i])\n",
    "\n",
    "print(f\"Found {len(non_passing)} non-passing instances\")"
   ]
  }
 ],
 "metadata": {
  "kernelspec": {
   "display_name": "venv",
   "language": "python",
   "name": "python3"
  },
  "language_info": {
   "codemirror_mode": {
    "name": "ipython",
    "version": 3
   },
   "file_extension": ".py",
   "mimetype": "text/x-python",
   "name": "python",
   "nbconvert_exporter": "python",
   "pygments_lexer": "ipython3",
   "version": "3.11.6"
  }
 },
 "nbformat": 4,
 "nbformat_minor": 2
}
