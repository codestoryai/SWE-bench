{
 "cells": [
  {
   "cell_type": "code",
   "execution_count": 50,
   "metadata": {},
   "outputs": [],
   "source": [
    "track_runs_sheet_path = \"runs_sheet.json\"\n",
    "non_passing_instances_path = \"eval_scripts/non_passing_instances.txt\"\n",
    "instance_id_column_name = \"instance_id\"\n",
    "bench_log_path = \"eval_scripts/bench_log.txt\"\n",
    "\n",
    "from swebench.google_sheets import get_column_values"
   ]
  },
  {
   "cell_type": "code",
   "execution_count": 51,
   "metadata": {},
   "outputs": [
    {
     "name": "stdout",
     "output_type": "stream",
     "text": [
      "Non passing instances: 382\n",
      "Passing instances: 118\n",
      "Pass %: 23.60%\n"
     ]
    }
   ],
   "source": [
    "# open file\n",
    "try:\n",
    "    with open(non_passing_instances_path, \"r\") as file:\n",
    "        non_passing_instances = file.readlines()\n",
    "except FileNotFoundError:\n",
    "    raise Exception(f\"The file at {non_passing_instances_path} does not exist.\")\n",
    "\n",
    "total_instances = 500\n",
    "non_passing_instances_count = len(non_passing_instances)\n",
    "passing_instances_count = total_instances - non_passing_instances_count\n",
    "passing_percentage = passing_instances_count / total_instances * 100\n",
    "\n",
    "print(f\"Non passing instances: {non_passing_instances_count}\")\n",
    "print(f\"Passing instances: {passing_instances_count}\")\n",
    "print(f\"Pass %: {passing_percentage:.2f}%\")"
   ]
  },
  {
   "cell_type": "code",
   "execution_count": 52,
   "metadata": {},
   "outputs": [],
   "source": [
    "# Open our sheet\n",
    "import json\n",
    "\n",
    "with open(track_runs_sheet_path, \"r\") as file:\n",
    "    runs_sheet = json.load(file)\n",
    "\n",
    "log_sheet_id, sheet_id, sheet_name = runs_sheet[\"LOG_SHEET_ID\"], runs_sheet[\"SHEET_ID\"], runs_sheet[\"LOG_SHEET_NAME\"]\n",
    "\n",
    "if log_sheet_id is None or sheet_id is None or sheet_name is None:\n",
    "    raise Exception(\"Sheet ID or name is None\")\n"
   ]
  },
  {
   "cell_type": "code",
   "execution_count": 53,
   "metadata": {},
   "outputs": [
    {
     "name": "stderr",
     "output_type": "stream",
     "text": [
      "2024-12-10 12:49:00,691 - googleapiclient.discovery_cache - INFO - file_cache is only supported with oauth2client<4.0.0\n"
     ]
    },
    {
     "name": "stdout",
     "output_type": "stream",
     "text": [
      "Found  500  instance ids\n"
     ]
    }
   ],
   "source": [
    "# Get instance_id column\n",
    "instance_ids = get_column_values(log_sheet_id, sheet_name, instance_id_column_name)\n",
    "print(\"Found \", len(instance_ids), \" instance ids\")"
   ]
  },
  {
   "cell_type": "code",
   "execution_count": 54,
   "metadata": {},
   "outputs": [
    {
     "name": "stderr",
     "output_type": "stream",
     "text": [
      "2024-12-10 12:49:03,877 - googleapiclient.discovery_cache - INFO - file_cache is only supported with oauth2client<4.0.0\n"
     ]
    },
    {
     "name": "stdout",
     "output_type": "stream",
     "text": [
      "Found 500 values in OVERALL column\n"
     ]
    }
   ],
   "source": [
    "# Get OVERALL column\n",
    "overall_column_name = \"OVERALL\"\n",
    "overall_column_values = get_column_values(log_sheet_id, sheet_name, overall_column_name)\n",
    "\n",
    "print(f\"Found {len(overall_column_values)} values in {overall_column_name} column\")"
   ]
  },
  {
   "cell_type": "code",
   "execution_count": 55,
   "metadata": {},
   "outputs": [
    {
     "name": "stdout",
     "output_type": "stream",
     "text": [
      "Found 382 non-passing instances\n",
      "Old pass percentage: 23.60%\n",
      "New pass percentage: 23.60%\n"
     ]
    }
   ],
   "source": [
    "# Get non-passing instances\n",
    "non_passing = []\n",
    "for i, overall_value in enumerate(overall_column_values):\n",
    "    if overall_value == \"FALSE\":\n",
    "        non_passing.append(instance_ids[i])\n",
    "\n",
    "print(f\"Found {len(non_passing)} non-passing instances\")\n",
    "\n",
    "new_pass_percentage = (total_instances - len(non_passing)) / total_instances * 100\n",
    "print(f\"Old pass percentage: {passing_percentage:.2f}%\")\n",
    "print(f\"New pass percentage: {new_pass_percentage:.2f}%\")"
   ]
  },
  {
   "cell_type": "code",
   "execution_count": 56,
   "metadata": {},
   "outputs": [
    {
     "name": "stdout",
     "output_type": "stream",
     "text": [
      "Updated instances written to ./eval_scripts/non_passing_instances.txt.\n"
     ]
    }
   ],
   "source": [
    "# Write non-passing instance_ids to eval_scripts/non_passing_instances.txt\n",
    "with open(non_passing_instances_path, \"w\") as file:\n",
    "    file.writelines(line + \"\\n\" for line in non_passing)\n",
    "\n",
    "print(f\"Updated instances written to {non_passing_instances_path}.\")\n"
   ]
  },
  {
   "cell_type": "code",
   "execution_count": null,
   "metadata": {},
   "outputs": [],
   "source": [
    "# Update bench log with new pass percentage along with timestamp\n",
    "from datetime import datetime\n",
    "\n",
    "timestamp = datetime.now().strftime(\"%Y-%m-%d %H:%M:%S\")\n",
    "\n",
    "with open(bench_log_path, \"a\") as file:\n",
    "    file.write(f\"{timestamp} - {new_pass_percentage:.2f}%\\n\")\n",
    "\n",
    "print(f\"Updated bench log written to {bench_log_path}.\")"
   ]
  }
 ],
 "metadata": {
  "kernelspec": {
   "display_name": "venv",
   "language": "python",
   "name": "python3"
  },
  "language_info": {
   "codemirror_mode": {
    "name": "ipython",
    "version": 3
   },
   "file_extension": ".py",
   "mimetype": "text/x-python",
   "name": "python",
   "nbconvert_exporter": "python",
   "pygments_lexer": "ipython3",
   "version": "3.11.6"
  }
 },
 "nbformat": 4,
 "nbformat_minor": 2
}
