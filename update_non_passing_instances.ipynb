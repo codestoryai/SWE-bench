{
 "cells": [
  {
   "cell_type": "code",
   "execution_count": 4,
   "metadata": {},
   "outputs": [
    {
     "name": "stdout",
     "output_type": "stream",
     "text": [
      "Non passing instances:  391\n",
      "Passing instances:  109\n",
      "Pass %:  21.8\n"
     ]
    }
   ],
   "source": [
    "non_passing_instances_path = \"/Users/zi/codestory/SWE-bench/eval_scripts/instance_ids_django_others.txt\"\n",
    "\n",
    "# open file\n",
    "with open(non_passing_instances_path, \"r\") as file:\n",
    "    non_passing_instances = file.readlines()\n",
    "\n",
    "total_instances = 500\n",
    "non_passing_instances_count = len(non_passing_instances)\n",
    "passing_instances_count = total_instances - non_passing_instances_count\n",
    "\n",
    "print(\"Non passing instances: \", non_passing_instances_count)\n",
    "print(\"Passing instances: \", passing_instances_count)\n",
    "print(\"Pass %: \", passing_instances_count / total_instances * 100)"
   ]
  },
  {
   "cell_type": "code",
   "execution_count": null,
   "metadata": {},
   "outputs": [],
   "source": [
    "# Open our sheet\n",
    "import json\n",
    "\n",
    "with open(\"runs_sheet.json\", \"r\") as file:\n",
    "    runs_sheet = json.load(file)\n",
    "\n",
    "print(runs_sheet)"
   ]
  }
 ],
 "metadata": {
  "kernelspec": {
   "display_name": "venv",
   "language": "python",
   "name": "python3"
  },
  "language_info": {
   "codemirror_mode": {
    "name": "ipython",
    "version": 3
   },
   "file_extension": ".py",
   "mimetype": "text/x-python",
   "name": "python",
   "nbconvert_exporter": "python",
   "pygments_lexer": "ipython3",
   "version": "3.11.6"
  }
 },
 "nbformat": 4,
 "nbformat_minor": 2
}
