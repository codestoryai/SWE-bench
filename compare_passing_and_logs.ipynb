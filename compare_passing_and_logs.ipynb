{
 "cells": [
  {
   "cell_type": "code",
   "execution_count": 10,
   "metadata": {},
   "outputs": [
    {
     "name": "stdout",
     "output_type": "stream",
     "text": [
      "Found 298 passing instances (txt)\n",
      "Found 288 passing instances (json)\n",
      "Difference: {'django__django-15572', 'matplotlib__matplotlib-26113', 'django__django-13028', 'django__django-15128', 'django__django-12155', 'pydata__xarray-4966', 'django__django-11964', 'pytest-dev__pytest-7205', 'django__django-12039', 'django__django-16661'}\n",
      "Difference count: 10\n",
      "Differences printed to passing_instances_discrepancies.txt\n"
     ]
    }
   ],
   "source": [
    "import json\n",
    "\n",
    "with open(\"passing_instances.txt\", \"r\") as f:\n",
    "    passing_instances = f.read().splitlines()\n",
    "\n",
    "print(f\"Found {len(passing_instances)} passing instances (txt)\")\n",
    "\n",
    "# Load the JSON data from output.json\n",
    "with open(\"passing_and_traj_complete_instances_from_bucket.json\", \"r\") as f:\n",
    "    passing_instances_data = json.load(f)\n",
    "\n",
    "# Filter out entries whose values are False (keep only those with True)\n",
    "passing_instances_json = {k: v for k, v in passing_instances_data.items() if v}\n",
    "\n",
    "print(f\"Found {len(passing_instances_json)} passing instances (json)\")\n",
    "\n",
    "# Find the difference between the sets of keys from txt file and json data\n",
    "difference = set(passing_instances) - set(passing_instances_json.keys())\n",
    "\n",
    "print(f\"Difference: {difference}\")\n",
    "print(f\"Difference count: {len(difference)}\")\n",
    "\n",
    "# print differences to passing_instances_discrepancies.txt\n",
    "with open(\"passing_instances_discrepancies.txt\", \"w\") as f:\n",
    "    for instance in difference:\n",
    "        f.write(instance + \"\\n\")\n",
    "\n",
    "print(\"Differences printed to passing_instances_discrepancies.txt\")"
   ]
  }
 ],
 "metadata": {
  "kernelspec": {
   "display_name": "venv",
   "language": "python",
   "name": "python3"
  },
  "language_info": {
   "codemirror_mode": {
    "name": "ipython",
    "version": 3
   },
   "file_extension": ".py",
   "mimetype": "text/x-python",
   "name": "python",
   "nbconvert_exporter": "python",
   "pygments_lexer": "ipython3",
   "version": "3.11.6"
  }
 },
 "nbformat": 4,
 "nbformat_minor": 2
}
