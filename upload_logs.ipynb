{
 "cells": [
  {
   "cell_type": "code",
   "execution_count": 2,
   "metadata": {},
   "outputs": [],
   "source": [
    "import json\n",
    "\n",
    "from swebench.gcp.upload import upload_trajs_to_gcs\n",
    "from swebench.gcp.log_collector import build_files_map\n",
    "\n",
    "bucket_name = \"swebench_logs\""
   ]
  },
  {
   "cell_type": "code",
   "execution_count": 25,
   "metadata": {},
   "outputs": [],
   "source": [
    "root_dir = \"/Users/zi/codestory/SWE-bench/logs/run_evaluation\"\n",
    "\n",
    "result = build_files_map(root_dir)\n",
    "json_result = json.dumps(result, indent=4)\n",
    "\n",
    "with open(\"sidecar.logs.json\", \"w\") as f:\n",
    "    f.write(json_result)\n",
    "\n",
    "upload_trajs_to_gcs(bucket_name, result, root_dir)"
   ]
  }
 ],
 "metadata": {
  "kernelspec": {
   "display_name": "venv",
   "language": "python",
   "name": "python3"
  },
  "language_info": {
   "codemirror_mode": {
    "name": "ipython",
    "version": 3
   },
   "file_extension": ".py",
   "mimetype": "text/x-python",
   "name": "python",
   "nbconvert_exporter": "python",
   "pygments_lexer": "ipython3",
   "version": "3.11.6"
  }
 },
 "nbformat": 4,
 "nbformat_minor": 2
}
