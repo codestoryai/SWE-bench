{
 "cells": [
  {
   "cell_type": "markdown",
   "metadata": {},
   "source": [
    "# IMPORTANT: BEFORE STARTING\n",
    "Define results_path - this is the .json result pulled from SWE-bench [repo](https://github.com/swe-bench/experiments/tree/main/evaluation/verified)."
   ]
  },
  {
   "cell_type": "code",
   "execution_count": 14,
   "metadata": {},
   "outputs": [],
   "source": [
    "# results_path = \"/Users/zi/codestory/SWE-bench/results_20241202_amazon-q-developer-agent-20241202-dev.json\"\n",
    "results_path = \"/Users/zi/codestory/SWE-bench/results_ 20241108_devlo.json\""
   ]
  },
  {
   "cell_type": "code",
   "execution_count": 15,
   "metadata": {},
   "outputs": [
    {
     "name": "stdout",
     "output_type": "stream",
     "text": [
      "271 resolved\n"
     ]
    }
   ],
   "source": [
    "from swebench.google_sheets import add_column, get_header_row, name_column, update_instance_run_resolved_status, build_instance_id_mapping\n",
    "from datetime import datetime\n",
    "import json\n",
    "\n",
    "LOG_SHEET_ID = \"1W0gxh-NC9Sl01yrlTRPNGvyDQva3_lZPPPMQ2M8IP74\"\n",
    "SHEET_ID = 280623479\n",
    "LOG_SHEET_NAME = \"RUNS\"\n",
    "\n",
    "with open(results_path, \"r\") as f:\n",
    "    results_json = json.load(f)\n",
    "\n",
    "resolved = results_json[\"resolved\"]\n",
    "print(len(resolved), \"resolved\")"
   ]
  },
  {
   "cell_type": "code",
   "execution_count": 16,
   "metadata": {},
   "outputs": [
    {
     "name": "stderr",
     "output_type": "stream",
     "text": [
      "2024-12-09 13:53:57,855 - googleapiclient.discovery_cache - INFO - file_cache is only supported with oauth2client<4.0.0\n",
      "2024-12-09 13:53:58,401 - googleapiclient.discovery_cache - INFO - file_cache is only supported with oauth2client<4.0.0\n",
      "2024-12-09 13:53:59,324 - googleapiclient.discovery_cache - INFO - file_cache is only supported with oauth2client<4.0.0\n"
     ]
    },
    {
     "name": "stdout",
     "output_type": "stream",
     "text": [
      "Added column /Users/zi/codestory/SWE-bench/results_ 20241108_devlo.json (2024-12-09 13:53:59) at index 46\n"
     ]
    }
   ],
   "source": [
    "id_mapping = build_instance_id_mapping(LOG_SHEET_ID, LOG_SHEET_NAME)\n",
    "print(id_mapping)\n",
    "\n",
    "headers = get_header_row(LOG_SHEET_ID, LOG_SHEET_NAME)\n",
    "at_index = len(headers)  # This will put it at the end\n",
    "add_column(LOG_SHEET_ID, SHEET_ID, at_index=at_index)\n",
    "column_name = f\"{results_path} ({datetime.now().strftime('%Y-%m-%d %H:%M:%S')})\"\n",
    "name_column(LOG_SHEET_ID, LOG_SHEET_NAME, at_index, column_name)\n",
    "print(f\"Added column {column_name} at index {at_index}\")"
   ]
  },
  {
   "cell_type": "code",
   "execution_count": null,
   "metadata": {},
   "outputs": [],
   "source": [
    "for resolved_instance in resolved:\n",
    "    update_instance_run_resolved_status(LOG_SHEET_ID, SHEET_ID, LOG_SHEET_NAME, at_index, resolved_instance, True, id_mapping)\n",
    "    print(f\"Updated {resolved_instance} to True\")\n",
    "    \n",
    "print(f\"Updated all {len(resolved)} instances\")"
   ]
  }
 ],
 "metadata": {
  "kernelspec": {
   "display_name": "venv",
   "language": "python",
   "name": "python3"
  },
  "language_info": {
   "codemirror_mode": {
    "name": "ipython",
    "version": 3
   },
   "file_extension": ".py",
   "mimetype": "text/x-python",
   "name": "python",
   "nbconvert_exporter": "python",
   "pygments_lexer": "ipython3",
   "version": "3.11.6"
  }
 },
 "nbformat": 4,
 "nbformat_minor": 2
}
