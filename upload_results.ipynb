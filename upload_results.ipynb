{
 "cells": [
  {
   "cell_type": "code",
   "execution_count": 11,
   "metadata": {},
   "outputs": [],
   "source": [
    "from swebench.google_sheets import get_sheets_service, add_column, get_header_row, name_column"
   ]
  },
  {
   "cell_type": "code",
   "execution_count": 12,
   "metadata": {},
   "outputs": [
    {
     "name": "stdout",
     "output_type": "stream",
     "text": [
      "275 resolved\n"
     ]
    }
   ],
   "source": [
    "import json\n",
    "\n",
    "\n",
    "LOG_SHEET_ID = \"1W0gxh-NC9Sl01yrlTRPNGvyDQva3_lZPPPMQ2M8IP74\"\n",
    "SHEET_ID = 280623479\n",
    "LOG_SHEET_NAME = \"RUNS\"\n",
    "\n",
    "results_path = \"/Users/zi/codestory/SWE-bench/20241202_amazon-q-developer-agent-20241202-dev.json\"\n",
    "\n",
    "with open(results_path, \"r\") as f:\n",
    "    results_json = json.load(f)\n",
    "\n",
    "resolved = results_json[\"resolved\"]\n",
    "print(len(resolved), \"resolved\")"
   ]
  },
  {
   "cell_type": "code",
   "execution_count": 14,
   "metadata": {},
   "outputs": [
    {
     "name": "stderr",
     "output_type": "stream",
     "text": [
      "2024-12-09 12:43:45,868 - googleapiclient.discovery_cache - INFO - file_cache is only supported with oauth2client<4.0.0\n"
     ]
    },
    {
     "name": "stdout",
     "output_type": "stream",
     "text": [
      "Column amazon-q already exists at index 7\n"
     ]
    }
   ],
   "source": [
    "target_column = \"amazon-q\"\n",
    "\n",
    "headers = get_header_row(LOG_SHEET_ID, LOG_SHEET_NAME)\n",
    "\n",
    "index_of_target_column_if_exists = next((i for i, header in enumerate(headers) if header == target_column), None)\n",
    "\n",
    "if index_of_target_column_if_exists is None:\n",
    "    print(f\"Column {target_column} does not exist, adding it to the end\")\n",
    "    at_index = len(headers)\n",
    "    add_column(LOG_SHEET_ID, SHEET_ID, at_index=at_index)\n",
    "    name_column(LOG_SHEET_ID, LOG_SHEET_NAME, at_index, target_column)\n",
    "else:\n",
    "    print(f\"Column {target_column} already exists at index {index_of_target_column_if_exists}\")\n",
    "    at_index = index_of_target_column_if_exists\n",
    "\n"
   ]
  }
 ],
 "metadata": {
  "kernelspec": {
   "display_name": "venv",
   "language": "python",
   "name": "python3"
  },
  "language_info": {
   "codemirror_mode": {
    "name": "ipython",
    "version": 3
   },
   "file_extension": ".py",
   "mimetype": "text/x-python",
   "name": "python",
   "nbconvert_exporter": "python",
   "pygments_lexer": "ipython3",
   "version": "3.11.6"
  }
 },
 "nbformat": 4,
 "nbformat_minor": 2
}
