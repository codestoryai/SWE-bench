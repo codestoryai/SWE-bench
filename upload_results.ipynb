{
 "cells": [
  {
   "cell_type": "markdown",
   "metadata": {},
   "source": [
    "# IMPORTANT: BEFORE STARTING\n",
    "Define results_path - this is the .json result pulled from SWE-bench [repo](https://github.com/swe-bench/experiments/tree/main/evaluation/verified)."
   ]
  },
  {
   "cell_type": "code",
   "execution_count": 1,
   "metadata": {},
   "outputs": [],
   "source": [
    "results_path = \"/Users/zi/codestory/SWE-bench/results_20241202_amazon-q-developer-agent-20241202-dev.json\"\n",
    "# results_path = \"/Users/zi/codestory/SWE-bench/results_ 20241108_devlo.json\""
   ]
  },
  {
   "cell_type": "code",
   "execution_count": 2,
   "metadata": {},
   "outputs": [
    {
     "name": "stdout",
     "output_type": "stream",
     "text": [
      "275 resolved\n"
     ]
    },
    {
     "name": "stderr",
     "output_type": "stream",
     "text": [
      "/Users/zi/codestory/SWE-bench/venv/lib/python3.11/site-packages/tqdm/auto.py:21: TqdmWarning: IProgress not found. Please update jupyter and ipywidgets. See https://ipywidgets.readthedocs.io/en/stable/user_install.html\n",
      "  from .autonotebook import tqdm as notebook_tqdm\n"
     ]
    }
   ],
   "source": [
    "from swebench.google_sheets import update_instance_run_resolved_status, build_instance_id_mapping, append_new_column\n",
    "from datetime import datetime\n",
    "import json\n",
    "import time\n",
    "\n",
    "LOG_SHEET_ID = \"1W0gxh-NC9Sl01yrlTRPNGvyDQva3_lZPPPMQ2M8IP74\"\n",
    "SHEET_ID = 280623479\n",
    "LOG_SHEET_NAME = \"RUNS\"\n",
    "\n",
    "with open(results_path, \"r\") as f:\n",
    "    results_json = json.load(f)\n",
    "\n",
    "resolved = results_json[\"resolved\"]\n",
    "print(len(resolved), \"resolved\")"
   ]
  },
  {
   "cell_type": "code",
   "execution_count": 3,
   "metadata": {},
   "outputs": [
    {
     "name": "stderr",
     "output_type": "stream",
     "text": [
      "2024-12-09 14:11:38,068 - googleapiclient.discovery_cache - INFO - file_cache is only supported with oauth2client<4.0.0\n",
      "2024-12-09 14:11:38,392 - googleapiclient.discovery_cache - INFO - file_cache is only supported with oauth2client<4.0.0\n"
     ]
    },
    {
     "name": "stdout",
     "output_type": "stream",
     "text": [
      "{'instance_id': 0, 'astropy__astropy-12907': 1, 'astropy__astropy-13033': 2, 'astropy__astropy-13236': 3, 'astropy__astropy-13398': 4, 'astropy__astropy-13453': 5, 'astropy__astropy-13579': 6, 'astropy__astropy-13977': 7, 'astropy__astropy-14096': 8, 'astropy__astropy-14182': 9, 'astropy__astropy-14309': 10, 'astropy__astropy-14365': 11, 'astropy__astropy-14369': 12, 'astropy__astropy-14508': 13, 'astropy__astropy-14539': 14, 'astropy__astropy-14598': 15, 'astropy__astropy-14995': 16, 'astropy__astropy-7166': 17, 'astropy__astropy-7336': 18, 'astropy__astropy-7606': 19, 'astropy__astropy-7671': 20, 'astropy__astropy-8707': 21, 'astropy__astropy-8872': 22, 'django__django-10097': 23, 'django__django-10554': 24, 'django__django-10880': 25, 'django__django-10914': 26, 'django__django-10973': 27, 'django__django-10999': 28, 'django__django-11066': 29, 'django__django-11087': 30, 'django__django-11095': 31, 'django__django-11099': 32, 'django__django-11119': 33, 'django__django-11133': 34, 'django__django-11138': 35, 'django__django-11141': 36, 'django__django-11149': 37, 'django__django-11163': 38, 'django__django-11179': 39, 'django__django-11206': 40, 'django__django-11211': 41, 'django__django-11239': 42, 'django__django-11265': 43, 'django__django-11276': 44, 'django__django-11292': 45, 'django__django-11299': 46, 'django__django-11333': 47, 'django__django-11400': 48, 'django__django-11433': 49, 'django__django-11451': 50, 'django__django-11477': 51, 'django__django-11490': 52, 'django__django-11532': 53, 'django__django-11551': 54, 'django__django-11555': 55, 'django__django-11603': 56, 'django__django-11728': 57, 'django__django-11734': 58, 'django__django-11740': 59, 'django__django-11749': 60, 'django__django-11790': 61, 'django__django-11815': 62, 'django__django-11820': 63, 'django__django-11848': 64, 'django__django-11880': 65, 'django__django-11885': 66, 'django__django-11951': 67, 'django__django-11964': 68, 'django__django-11999': 69, 'django__django-12039': 70, 'django__django-12050': 71, 'django__django-12125': 72, 'django__django-12143': 73, 'django__django-12155': 74, 'django__django-12193': 75, 'django__django-12209': 76, 'django__django-12262': 77, 'django__django-12273': 78, 'django__django-12276': 79, 'django__django-12304': 80, 'django__django-12308': 81, 'django__django-12325': 82, 'django__django-12406': 83, 'django__django-12419': 84, 'django__django-12663': 85, 'django__django-12708': 86, 'django__django-12713': 87, 'django__django-12741': 88, 'django__django-12754': 89, 'django__django-12774': 90, 'django__django-12858': 91, 'django__django-12965': 92, 'django__django-13012': 93, 'django__django-13023': 94, 'django__django-13028': 95, 'django__django-13033': 96, 'django__django-13089': 97, 'django__django-13109': 98, 'django__django-13112': 99, 'django__django-13121': 100, 'django__django-13128': 101, 'django__django-13158': 102, 'django__django-13195': 103, 'django__django-13212': 104, 'django__django-13279': 105, 'django__django-13297': 106, 'django__django-13315': 107, 'django__django-13343': 108, 'django__django-13344': 109, 'django__django-13346': 110, 'django__django-13363': 111, 'django__django-13401': 112, 'django__django-13406': 113, 'django__django-13410': 114, 'django__django-13417': 115, 'django__django-13449': 116, 'django__django-13512': 117, 'django__django-13513': 118, 'django__django-13516': 119, 'django__django-13551': 120, 'django__django-13568': 121, 'django__django-13569': 122, 'django__django-13590': 123, 'django__django-13658': 124, 'django__django-13670': 125, 'django__django-13741': 126, 'django__django-13786': 127, 'django__django-13794': 128, 'django__django-13807': 129, 'django__django-13809': 130, 'django__django-13810': 131, 'django__django-13820': 132, 'django__django-13821': 133, 'django__django-13837': 134, 'django__django-13925': 135, 'django__django-13933': 136, 'django__django-13964': 137, 'django__django-14007': 138, 'django__django-14011': 139, 'django__django-14017': 140, 'django__django-14034': 141, 'django__django-14053': 142, 'django__django-14089': 143, 'django__django-14122': 144, 'django__django-14140': 145, 'django__django-14155': 146, 'django__django-14170': 147, 'django__django-14238': 148, 'django__django-14311': 149, 'django__django-14315': 150, 'django__django-14349': 151, 'django__django-14351': 152, 'django__django-14373': 153, 'django__django-14376': 154, 'django__django-14404': 155, 'django__django-14434': 156, 'django__django-14493': 157, 'django__django-14500': 158, 'django__django-14534': 159, 'django__django-14539': 160, 'django__django-14559': 161, 'django__django-14580': 162, 'django__django-14608': 163, 'django__django-14631': 164, 'django__django-14672': 165, 'django__django-14725': 166, 'django__django-14752': 167, 'django__django-14765': 168, 'django__django-14771': 169, 'django__django-14787': 170, 'django__django-14792': 171, 'django__django-14855': 172, 'django__django-14915': 173, 'django__django-14999': 174, 'django__django-15022': 175, 'django__django-15037': 176, 'django__django-15098': 177, 'django__django-15103': 178, 'django__django-15104': 179, 'django__django-15127': 180, 'django__django-15128': 181, 'django__django-15161': 182, 'django__django-15252': 183, 'django__django-15268': 184, 'django__django-15277': 185, 'django__django-15278': 186, 'django__django-15280': 187, 'django__django-15315': 188, 'django__django-15368': 189, 'django__django-15375': 190, 'django__django-15380': 191, 'django__django-15382': 192, 'django__django-15467': 193, 'django__django-15499': 194, 'django__django-15503': 195, 'django__django-15525': 196, 'django__django-15554': 197, 'django__django-15561': 198, 'django__django-15563': 199, 'django__django-15569': 200, 'django__django-15572': 201, 'django__django-15629': 202, 'django__django-15695': 203, 'django__django-15731': 204, 'django__django-15732': 205, 'django__django-15741': 206, 'django__django-15814': 207, 'django__django-15851': 208, 'django__django-15863': 209, 'django__django-15916': 210, 'django__django-15930': 211, 'django__django-15957': 212, 'django__django-15973': 213, 'django__django-15987': 214, 'django__django-16032': 215, 'django__django-16082': 216, 'django__django-16100': 217, 'django__django-16116': 218, 'django__django-16136': 219, 'django__django-16139': 220, 'django__django-16145': 221, 'django__django-16255': 222, 'django__django-16256': 223, 'django__django-16263': 224, 'django__django-16315': 225, 'django__django-16333': 226, 'django__django-16429': 227, 'django__django-16454': 228, 'django__django-16485': 229, 'django__django-16493': 230, 'django__django-16502': 231, 'django__django-16527': 232, 'django__django-16560': 233, 'django__django-16569': 234, 'django__django-16595': 235, 'django__django-16612': 236, 'django__django-16631': 237, 'django__django-16642': 238, 'django__django-16661': 239, 'django__django-16662': 240, 'django__django-16667': 241, 'django__django-16801': 242, 'django__django-16819': 243, 'django__django-16877': 244, 'django__django-16899': 245, 'django__django-16901': 246, 'django__django-16938': 247, 'django__django-16950': 248, 'django__django-17029': 249, 'django__django-17084': 250, 'django__django-17087': 251, 'django__django-7530': 252, 'django__django-9296': 253, 'matplotlib__matplotlib-13989': 254, 'matplotlib__matplotlib-14623': 255, 'matplotlib__matplotlib-20488': 256, 'matplotlib__matplotlib-20676': 257, 'matplotlib__matplotlib-20826': 258, 'matplotlib__matplotlib-20859': 259, 'matplotlib__matplotlib-21568': 260, 'matplotlib__matplotlib-22719': 261, 'matplotlib__matplotlib-22865': 262, 'matplotlib__matplotlib-22871': 263, 'matplotlib__matplotlib-23299': 264, 'matplotlib__matplotlib-23314': 265, 'matplotlib__matplotlib-23412': 266, 'matplotlib__matplotlib-23476': 267, 'matplotlib__matplotlib-24026': 268, 'matplotlib__matplotlib-24149': 269, 'matplotlib__matplotlib-24177': 270, 'matplotlib__matplotlib-24570': 271, 'matplotlib__matplotlib-24627': 272, 'matplotlib__matplotlib-24637': 273, 'matplotlib__matplotlib-24870': 274, 'matplotlib__matplotlib-24970': 275, 'matplotlib__matplotlib-25122': 276, 'matplotlib__matplotlib-25287': 277, 'matplotlib__matplotlib-25311': 278, 'matplotlib__matplotlib-25332': 279, 'matplotlib__matplotlib-25479': 280, 'matplotlib__matplotlib-25775': 281, 'matplotlib__matplotlib-25960': 282, 'matplotlib__matplotlib-26113': 283, 'matplotlib__matplotlib-26208': 284, 'matplotlib__matplotlib-26291': 285, 'matplotlib__matplotlib-26342': 286, 'matplotlib__matplotlib-26466': 287, 'mwaskom__seaborn-3069': 288, 'mwaskom__seaborn-3187': 289, 'pallets__flask-5014': 290, 'psf__requests-1142': 291, 'psf__requests-1724': 292, 'psf__requests-1766': 293, 'psf__requests-1921': 294, 'psf__requests-2317': 295, 'psf__requests-2931': 296, 'psf__requests-5414': 297, 'psf__requests-6028': 298, 'pydata__xarray-2905': 299, 'pydata__xarray-3095': 300, 'pydata__xarray-3151': 301, 'pydata__xarray-3305': 302, 'pydata__xarray-3677': 303, 'pydata__xarray-3993': 304, 'pydata__xarray-4075': 305, 'pydata__xarray-4094': 306, 'pydata__xarray-4356': 307, 'pydata__xarray-4629': 308, 'pydata__xarray-4687': 309, 'pydata__xarray-4695': 310, 'pydata__xarray-4966': 311, 'pydata__xarray-6461': 312, 'pydata__xarray-6599': 313, 'pydata__xarray-6721': 314, 'pydata__xarray-6744': 315, 'pydata__xarray-6938': 316, 'pydata__xarray-6992': 317, 'pydata__xarray-7229': 318, 'pydata__xarray-7233': 319, 'pydata__xarray-7393': 320, 'pylint-dev__pylint-4551': 321, 'pylint-dev__pylint-4604': 322, 'pylint-dev__pylint-4661': 323, 'pylint-dev__pylint-4970': 324, 'pylint-dev__pylint-6386': 325, 'pylint-dev__pylint-6528': 326, 'pylint-dev__pylint-6903': 327, 'pylint-dev__pylint-7080': 328, 'pylint-dev__pylint-7277': 329, 'pylint-dev__pylint-8898': 330, 'pytest-dev__pytest-10051': 331, 'pytest-dev__pytest-10081': 332, 'pytest-dev__pytest-10356': 333, 'pytest-dev__pytest-5262': 334, 'pytest-dev__pytest-5631': 335, 'pytest-dev__pytest-5787': 336, 'pytest-dev__pytest-5809': 337, 'pytest-dev__pytest-5840': 338, 'pytest-dev__pytest-6197': 339, 'pytest-dev__pytest-6202': 340, 'pytest-dev__pytest-7205': 341, 'pytest-dev__pytest-7236': 342, 'pytest-dev__pytest-7324': 343, 'pytest-dev__pytest-7432': 344, 'pytest-dev__pytest-7490': 345, 'pytest-dev__pytest-7521': 346, 'pytest-dev__pytest-7571': 347, 'pytest-dev__pytest-7982': 348, 'pytest-dev__pytest-8399': 349, 'scikit-learn__scikit-learn-10297': 350, 'scikit-learn__scikit-learn-10844': 351, 'scikit-learn__scikit-learn-10908': 352, 'scikit-learn__scikit-learn-11310': 353, 'scikit-learn__scikit-learn-11578': 354, 'scikit-learn__scikit-learn-12585': 355, 'scikit-learn__scikit-learn-12682': 356, 'scikit-learn__scikit-learn-12973': 357, 'scikit-learn__scikit-learn-13124': 358, 'scikit-learn__scikit-learn-13135': 359, 'scikit-learn__scikit-learn-13142': 360, 'scikit-learn__scikit-learn-13328': 361, 'scikit-learn__scikit-learn-13439': 362, 'scikit-learn__scikit-learn-13496': 363, 'scikit-learn__scikit-learn-13779': 364, 'scikit-learn__scikit-learn-14053': 365, 'scikit-learn__scikit-learn-14087': 366, 'scikit-learn__scikit-learn-14141': 367, 'scikit-learn__scikit-learn-14496': 368, 'scikit-learn__scikit-learn-14629': 369, 'scikit-learn__scikit-learn-14710': 370, 'scikit-learn__scikit-learn-14894': 371, 'scikit-learn__scikit-learn-14983': 372, 'scikit-learn__scikit-learn-15100': 373, 'scikit-learn__scikit-learn-25102': 374, 'scikit-learn__scikit-learn-25232': 375, 'scikit-learn__scikit-learn-25747': 376, 'scikit-learn__scikit-learn-25931': 377, 'scikit-learn__scikit-learn-25973': 378, 'scikit-learn__scikit-learn-26194': 379, 'scikit-learn__scikit-learn-26323': 380, 'scikit-learn__scikit-learn-9288': 381, 'sphinx-doc__sphinx-10323': 382, 'sphinx-doc__sphinx-10435': 383, 'sphinx-doc__sphinx-10449': 384, 'sphinx-doc__sphinx-10466': 385, 'sphinx-doc__sphinx-10614': 386, 'sphinx-doc__sphinx-10673': 387, 'sphinx-doc__sphinx-11445': 388, 'sphinx-doc__sphinx-11510': 389, 'sphinx-doc__sphinx-7440': 390, 'sphinx-doc__sphinx-7454': 391, 'sphinx-doc__sphinx-7462': 392, 'sphinx-doc__sphinx-7590': 393, 'sphinx-doc__sphinx-7748': 394, 'sphinx-doc__sphinx-7757': 395, 'sphinx-doc__sphinx-7889': 396, 'sphinx-doc__sphinx-7910': 397, 'sphinx-doc__sphinx-7985': 398, 'sphinx-doc__sphinx-8035': 399, 'sphinx-doc__sphinx-8056': 400, 'sphinx-doc__sphinx-8120': 401, 'sphinx-doc__sphinx-8265': 402, 'sphinx-doc__sphinx-8269': 403, 'sphinx-doc__sphinx-8459': 404, 'sphinx-doc__sphinx-8475': 405, 'sphinx-doc__sphinx-8548': 406, 'sphinx-doc__sphinx-8551': 407, 'sphinx-doc__sphinx-8593': 408, 'sphinx-doc__sphinx-8595': 409, 'sphinx-doc__sphinx-8621': 410, 'sphinx-doc__sphinx-8638': 411, 'sphinx-doc__sphinx-8721': 412, 'sphinx-doc__sphinx-9229': 413, 'sphinx-doc__sphinx-9230': 414, 'sphinx-doc__sphinx-9258': 415, 'sphinx-doc__sphinx-9281': 416, 'sphinx-doc__sphinx-9320': 417, 'sphinx-doc__sphinx-9367': 418, 'sphinx-doc__sphinx-9461': 419, 'sphinx-doc__sphinx-9591': 420, 'sphinx-doc__sphinx-9602': 421, 'sphinx-doc__sphinx-9658': 422, 'sphinx-doc__sphinx-9673': 423, 'sphinx-doc__sphinx-9698': 424, 'sphinx-doc__sphinx-9711': 425, 'sympy__sympy-11618': 426, 'sympy__sympy-12096': 427, 'sympy__sympy-12419': 428, 'sympy__sympy-12481': 429, 'sympy__sympy-12489': 430, 'sympy__sympy-13031': 431, 'sympy__sympy-13091': 432, 'sympy__sympy-13372': 433, 'sympy__sympy-13480': 434, 'sympy__sympy-13551': 435, 'sympy__sympy-13615': 436, 'sympy__sympy-13647': 437, 'sympy__sympy-13757': 438, 'sympy__sympy-13798': 439, 'sympy__sympy-13852': 440, 'sympy__sympy-13877': 441, 'sympy__sympy-13878': 442, 'sympy__sympy-13974': 443, 'sympy__sympy-14248': 444, 'sympy__sympy-14531': 445, 'sympy__sympy-14711': 446, 'sympy__sympy-14976': 447, 'sympy__sympy-15017': 448, 'sympy__sympy-15345': 449, 'sympy__sympy-15349': 450, 'sympy__sympy-15599': 451, 'sympy__sympy-15809': 452, 'sympy__sympy-15875': 453, 'sympy__sympy-15976': 454, 'sympy__sympy-16450': 455, 'sympy__sympy-16597': 456, 'sympy__sympy-16766': 457, 'sympy__sympy-16792': 458, 'sympy__sympy-16886': 459, 'sympy__sympy-17139': 460, 'sympy__sympy-17318': 461, 'sympy__sympy-17630': 462, 'sympy__sympy-17655': 463, 'sympy__sympy-18189': 464, 'sympy__sympy-18199': 465, 'sympy__sympy-18211': 466, 'sympy__sympy-18698': 467, 'sympy__sympy-18763': 468, 'sympy__sympy-19040': 469, 'sympy__sympy-19346': 470, 'sympy__sympy-19495': 471, 'sympy__sympy-19637': 472, 'sympy__sympy-19783': 473, 'sympy__sympy-19954': 474, 'sympy__sympy-20154': 475, 'sympy__sympy-20428': 476, 'sympy__sympy-20438': 477, 'sympy__sympy-20590': 478, 'sympy__sympy-20801': 479, 'sympy__sympy-20916': 480, 'sympy__sympy-21379': 481, 'sympy__sympy-21596': 482, 'sympy__sympy-21612': 483, 'sympy__sympy-21847': 484, 'sympy__sympy-21930': 485, 'sympy__sympy-22080': 486, 'sympy__sympy-22456': 487, 'sympy__sympy-22714': 488, 'sympy__sympy-22914': 489, 'sympy__sympy-23262': 490, 'sympy__sympy-23413': 491, 'sympy__sympy-23534': 492, 'sympy__sympy-23824': 493, 'sympy__sympy-23950': 494, 'sympy__sympy-24066': 495, 'sympy__sympy-24213': 496, 'sympy__sympy-24443': 497, 'sympy__sympy-24539': 498, 'sympy__sympy-24562': 499, 'sympy__sympy-24661': 500}\n"
     ]
    },
    {
     "name": "stderr",
     "output_type": "stream",
     "text": [
      "2024-12-09 14:11:38,684 - googleapiclient.discovery_cache - INFO - file_cache is only supported with oauth2client<4.0.0\n",
      "2024-12-09 14:11:39,028 - googleapiclient.discovery_cache - INFO - file_cache is only supported with oauth2client<4.0.0\n"
     ]
    },
    {
     "name": "stdout",
     "output_type": "stream",
     "text": [
      "Added column /Users/zi/codestory/SWE-bench/results_20241202_amazon-q-developer-agent-20241202-dev.json (2024-12-09 14:11:38) at index 46\n"
     ]
    }
   ],
   "source": [
    "id_mapping = build_instance_id_mapping(LOG_SHEET_ID, LOG_SHEET_NAME)\n",
    "print(id_mapping)\n",
    "\n",
    "new_col_index = append_new_column(LOG_SHEET_ID, SHEET_ID, LOG_SHEET_NAME, f\"{results_path} ({datetime.now().strftime('%Y-%m-%d %H:%M:%S')})\")"
   ]
  },
  {
   "cell_type": "code",
   "execution_count": 4,
   "metadata": {},
   "outputs": [
    {
     "name": "stderr",
     "output_type": "stream",
     "text": [
      "2024-12-09 14:11:39,343 - googleapiclient.discovery_cache - INFO - file_cache is only supported with oauth2client<4.0.0\n",
      "2024-12-09 14:11:39,657 - googleapiclient.discovery_cache - INFO - file_cache is only supported with oauth2client<4.0.0\n"
     ]
    },
    {
     "name": "stdout",
     "output_type": "stream",
     "text": [
      "Updating instance astropy__astropy-12907 with status True at row 1 and column 46\n"
     ]
    },
    {
     "name": "stderr",
     "output_type": "stream",
     "text": [
      "2024-12-09 14:11:39,973 - googleapiclient.discovery_cache - INFO - file_cache is only supported with oauth2client<4.0.0\n"
     ]
    },
    {
     "name": "stdout",
     "output_type": "stream",
     "text": [
      "Updating instance astropy__astropy-13579 with status True at row 6 and column 46\n"
     ]
    },
    {
     "name": "stderr",
     "output_type": "stream",
     "text": [
      "2024-12-09 14:11:40,822 - googleapiclient.discovery_cache - INFO - file_cache is only supported with oauth2client<4.0.0\n"
     ]
    },
    {
     "name": "stdout",
     "output_type": "stream",
     "text": [
      "Updating instance astropy__astropy-14096 with status True at row 8 and column 46\n"
     ]
    },
    {
     "name": "stderr",
     "output_type": "stream",
     "text": [
      "2024-12-09 14:11:41,134 - googleapiclient.discovery_cache - INFO - file_cache is only supported with oauth2client<4.0.0\n"
     ]
    },
    {
     "name": "stdout",
     "output_type": "stream",
     "text": [
      "Updating instance astropy__astropy-14309 with status True at row 10 and column 46\n"
     ]
    },
    {
     "name": "stderr",
     "output_type": "stream",
     "text": [
      "2024-12-09 14:11:42,153 - googleapiclient.discovery_cache - INFO - file_cache is only supported with oauth2client<4.0.0\n"
     ]
    },
    {
     "name": "stdout",
     "output_type": "stream",
     "text": [
      "Updating instance astropy__astropy-14539 with status True at row 14 and column 46\n"
     ]
    },
    {
     "name": "stderr",
     "output_type": "stream",
     "text": [
      "2024-12-09 14:11:42,496 - googleapiclient.discovery_cache - INFO - file_cache is only supported with oauth2client<4.0.0\n"
     ]
    },
    {
     "name": "stdout",
     "output_type": "stream",
     "text": [
      "Updating instance astropy__astropy-14995 with status True at row 16 and column 46\n"
     ]
    },
    {
     "name": "stderr",
     "output_type": "stream",
     "text": [
      "2024-12-09 14:11:42,804 - googleapiclient.discovery_cache - INFO - file_cache is only supported with oauth2client<4.0.0\n"
     ]
    },
    {
     "name": "stdout",
     "output_type": "stream",
     "text": [
      "Updating instance astropy__astropy-7166 with status True at row 17 and column 46\n"
     ]
    },
    {
     "name": "stderr",
     "output_type": "stream",
     "text": [
      "2024-12-09 14:11:43,135 - googleapiclient.discovery_cache - INFO - file_cache is only supported with oauth2client<4.0.0\n"
     ]
    },
    {
     "name": "stdout",
     "output_type": "stream",
     "text": [
      "Updating instance astropy__astropy-7336 with status True at row 18 and column 46\n"
     ]
    },
    {
     "name": "stderr",
     "output_type": "stream",
     "text": [
      "2024-12-09 14:11:43,979 - googleapiclient.discovery_cache - INFO - file_cache is only supported with oauth2client<4.0.0\n"
     ]
    },
    {
     "name": "stdout",
     "output_type": "stream",
     "text": [
      "Updating instance astropy__astropy-7606 with status True at row 19 and column 46\n"
     ]
    },
    {
     "name": "stderr",
     "output_type": "stream",
     "text": [
      "2024-12-09 14:11:45,435 - googleapiclient.discovery_cache - INFO - file_cache is only supported with oauth2client<4.0.0\n"
     ]
    },
    {
     "name": "stdout",
     "output_type": "stream",
     "text": [
      "Updating instance astropy__astropy-7671 with status True at row 20 and column 46\n"
     ]
    },
    {
     "name": "stderr",
     "output_type": "stream",
     "text": [
      "2024-12-09 14:11:45,923 - googleapiclient.discovery_cache - INFO - file_cache is only supported with oauth2client<4.0.0\n"
     ]
    },
    {
     "name": "stdout",
     "output_type": "stream",
     "text": [
      "Updating instance django__django-10880 with status True at row 25 and column 46\n"
     ]
    },
    {
     "name": "stderr",
     "output_type": "stream",
     "text": [
      "2024-12-09 14:11:46,258 - googleapiclient.discovery_cache - INFO - file_cache is only supported with oauth2client<4.0.0\n"
     ]
    },
    {
     "name": "stdout",
     "output_type": "stream",
     "text": [
      "Updating instance django__django-10914 with status True at row 26 and column 46\n"
     ]
    },
    {
     "name": "stderr",
     "output_type": "stream",
     "text": [
      "2024-12-09 14:11:46,582 - googleapiclient.discovery_cache - INFO - file_cache is only supported with oauth2client<4.0.0\n"
     ]
    },
    {
     "name": "stdout",
     "output_type": "stream",
     "text": [
      "Updating instance django__django-10973 with status True at row 27 and column 46\n"
     ]
    },
    {
     "name": "stderr",
     "output_type": "stream",
     "text": [
      "2024-12-09 14:11:46,897 - googleapiclient.discovery_cache - INFO - file_cache is only supported with oauth2client<4.0.0\n"
     ]
    },
    {
     "name": "stdout",
     "output_type": "stream",
     "text": [
      "Updating instance django__django-11066 with status True at row 29 and column 46\n"
     ]
    },
    {
     "name": "stderr",
     "output_type": "stream",
     "text": [
      "2024-12-09 14:11:47,216 - googleapiclient.discovery_cache - INFO - file_cache is only supported with oauth2client<4.0.0\n"
     ]
    },
    {
     "name": "stdout",
     "output_type": "stream",
     "text": [
      "Updating instance django__django-11095 with status True at row 31 and column 46\n"
     ]
    },
    {
     "name": "stderr",
     "output_type": "stream",
     "text": [
      "2024-12-09 14:11:47,541 - googleapiclient.discovery_cache - INFO - file_cache is only supported with oauth2client<4.0.0\n"
     ]
    },
    {
     "name": "stdout",
     "output_type": "stream",
     "text": [
      "Updating instance django__django-11099 with status True at row 32 and column 46\n"
     ]
    },
    {
     "name": "stderr",
     "output_type": "stream",
     "text": [
      "2024-12-09 14:11:47,867 - googleapiclient.discovery_cache - INFO - file_cache is only supported with oauth2client<4.0.0\n"
     ]
    },
    {
     "name": "stdout",
     "output_type": "stream",
     "text": [
      "Updating instance django__django-11119 with status True at row 33 and column 46\n"
     ]
    },
    {
     "name": "stderr",
     "output_type": "stream",
     "text": [
      "2024-12-09 14:11:48,155 - googleapiclient.discovery_cache - INFO - file_cache is only supported with oauth2client<4.0.0\n"
     ]
    },
    {
     "name": "stdout",
     "output_type": "stream",
     "text": [
      "Updating instance django__django-11133 with status True at row 34 and column 46\n"
     ]
    },
    {
     "name": "stderr",
     "output_type": "stream",
     "text": [
      "2024-12-09 14:11:48,461 - googleapiclient.discovery_cache - INFO - file_cache is only supported with oauth2client<4.0.0\n"
     ]
    },
    {
     "name": "stdout",
     "output_type": "stream",
     "text": [
      "Updating instance django__django-11163 with status True at row 38 and column 46\n"
     ]
    },
    {
     "name": "stderr",
     "output_type": "stream",
     "text": [
      "2024-12-09 14:11:48,779 - googleapiclient.discovery_cache - INFO - file_cache is only supported with oauth2client<4.0.0\n"
     ]
    },
    {
     "name": "stdout",
     "output_type": "stream",
     "text": [
      "Updating instance django__django-11179 with status True at row 39 and column 46\n"
     ]
    },
    {
     "name": "stderr",
     "output_type": "stream",
     "text": [
      "2024-12-09 14:11:49,135 - googleapiclient.discovery_cache - INFO - file_cache is only supported with oauth2client<4.0.0\n"
     ]
    },
    {
     "name": "stdout",
     "output_type": "stream",
     "text": [
      "Updating instance django__django-11211 with status True at row 41 and column 46\n"
     ]
    },
    {
     "name": "stderr",
     "output_type": "stream",
     "text": [
      "2024-12-09 14:11:49,466 - googleapiclient.discovery_cache - INFO - file_cache is only supported with oauth2client<4.0.0\n"
     ]
    },
    {
     "name": "stdout",
     "output_type": "stream",
     "text": [
      "Updating instance django__django-11276 with status True at row 44 and column 46\n"
     ]
    },
    {
     "name": "stderr",
     "output_type": "stream",
     "text": [
      "2024-12-09 14:11:49,793 - googleapiclient.discovery_cache - INFO - file_cache is only supported with oauth2client<4.0.0\n"
     ]
    },
    {
     "name": "stdout",
     "output_type": "stream",
     "text": [
      "Updating instance django__django-11292 with status True at row 45 and column 46\n"
     ]
    },
    {
     "name": "stderr",
     "output_type": "stream",
     "text": [
      "2024-12-09 14:11:50,581 - googleapiclient.discovery_cache - INFO - file_cache is only supported with oauth2client<4.0.0\n"
     ]
    },
    {
     "name": "stdout",
     "output_type": "stream",
     "text": [
      "Updating instance django__django-11333 with status True at row 47 and column 46\n"
     ]
    },
    {
     "name": "stderr",
     "output_type": "stream",
     "text": [
      "2024-12-09 14:11:50,959 - googleapiclient.discovery_cache - INFO - file_cache is only supported with oauth2client<4.0.0\n"
     ]
    },
    {
     "name": "stdout",
     "output_type": "stream",
     "text": [
      "Updating instance django__django-11451 with status True at row 50 and column 46\n"
     ]
    },
    {
     "name": "stderr",
     "output_type": "stream",
     "text": [
      "2024-12-09 14:11:51,306 - googleapiclient.discovery_cache - INFO - file_cache is only supported with oauth2client<4.0.0\n"
     ]
    },
    {
     "name": "stdout",
     "output_type": "stream",
     "text": [
      "Updating instance django__django-11490 with status True at row 52 and column 46\n"
     ]
    },
    {
     "name": "stderr",
     "output_type": "stream",
     "text": [
      "2024-12-09 14:11:51,643 - googleapiclient.discovery_cache - INFO - file_cache is only supported with oauth2client<4.0.0\n"
     ]
    },
    {
     "name": "stdout",
     "output_type": "stream",
     "text": [
      "Updating instance django__django-11532 with status True at row 53 and column 46\n"
     ]
    },
    {
     "name": "stderr",
     "output_type": "stream",
     "text": [
      "2024-12-09 14:11:51,987 - googleapiclient.discovery_cache - INFO - file_cache is only supported with oauth2client<4.0.0\n"
     ]
    },
    {
     "name": "stdout",
     "output_type": "stream",
     "text": [
      "Updating instance django__django-11551 with status True at row 54 and column 46\n"
     ]
    },
    {
     "name": "stderr",
     "output_type": "stream",
     "text": [
      "2024-12-09 14:11:52,325 - googleapiclient.discovery_cache - INFO - file_cache is only supported with oauth2client<4.0.0\n"
     ]
    },
    {
     "name": "stdout",
     "output_type": "stream",
     "text": [
      "Updating instance django__django-11603 with status True at row 56 and column 46\n"
     ]
    },
    {
     "name": "stderr",
     "output_type": "stream",
     "text": [
      "2024-12-09 14:11:52,663 - googleapiclient.discovery_cache - INFO - file_cache is only supported with oauth2client<4.0.0\n"
     ]
    },
    {
     "name": "stdout",
     "output_type": "stream",
     "text": [
      "Updating instance django__django-11740 with status True at row 59 and column 46\n"
     ]
    },
    {
     "name": "stderr",
     "output_type": "stream",
     "text": [
      "2024-12-09 14:11:53,044 - googleapiclient.discovery_cache - INFO - file_cache is only supported with oauth2client<4.0.0\n"
     ]
    },
    {
     "name": "stdout",
     "output_type": "stream",
     "text": [
      "Updating instance django__django-11749 with status True at row 60 and column 46\n"
     ]
    },
    {
     "name": "stderr",
     "output_type": "stream",
     "text": [
      "2024-12-09 14:11:53,399 - googleapiclient.discovery_cache - INFO - file_cache is only supported with oauth2client<4.0.0\n"
     ]
    },
    {
     "name": "stdout",
     "output_type": "stream",
     "text": [
      "Updating instance django__django-11815 with status True at row 62 and column 46\n"
     ]
    },
    {
     "name": "stderr",
     "output_type": "stream",
     "text": [
      "2024-12-09 14:11:54,311 - googleapiclient.discovery_cache - INFO - file_cache is only supported with oauth2client<4.0.0\n"
     ]
    },
    {
     "name": "stdout",
     "output_type": "stream",
     "text": [
      "Updating instance django__django-11880 with status True at row 65 and column 46\n"
     ]
    },
    {
     "name": "stderr",
     "output_type": "stream",
     "text": [
      "2024-12-09 14:11:54,630 - googleapiclient.discovery_cache - INFO - file_cache is only supported with oauth2client<4.0.0\n"
     ]
    },
    {
     "name": "stdout",
     "output_type": "stream",
     "text": [
      "Updating instance django__django-11951 with status True at row 67 and column 46\n"
     ]
    },
    {
     "name": "stderr",
     "output_type": "stream",
     "text": [
      "2024-12-09 14:11:54,945 - googleapiclient.discovery_cache - INFO - file_cache is only supported with oauth2client<4.0.0\n"
     ]
    },
    {
     "name": "stdout",
     "output_type": "stream",
     "text": [
      "Updating instance django__django-11999 with status True at row 69 and column 46\n"
     ]
    },
    {
     "name": "stderr",
     "output_type": "stream",
     "text": [
      "2024-12-09 14:11:55,272 - googleapiclient.discovery_cache - INFO - file_cache is only supported with oauth2client<4.0.0\n"
     ]
    },
    {
     "name": "stdout",
     "output_type": "stream",
     "text": [
      "Updating instance django__django-12050 with status True at row 71 and column 46\n"
     ]
    },
    {
     "name": "stderr",
     "output_type": "stream",
     "text": [
      "2024-12-09 14:11:55,594 - googleapiclient.discovery_cache - INFO - file_cache is only supported with oauth2client<4.0.0\n"
     ]
    },
    {
     "name": "stdout",
     "output_type": "stream",
     "text": [
      "Updating instance django__django-12125 with status True at row 72 and column 46\n"
     ]
    },
    {
     "name": "stderr",
     "output_type": "stream",
     "text": [
      "2024-12-09 14:11:55,903 - googleapiclient.discovery_cache - INFO - file_cache is only supported with oauth2client<4.0.0\n"
     ]
    },
    {
     "name": "stdout",
     "output_type": "stream",
     "text": [
      "Updating instance django__django-12143 with status True at row 73 and column 46\n"
     ]
    },
    {
     "name": "stderr",
     "output_type": "stream",
     "text": [
      "2024-12-09 14:11:56,218 - googleapiclient.discovery_cache - INFO - file_cache is only supported with oauth2client<4.0.0\n"
     ]
    },
    {
     "name": "stdout",
     "output_type": "stream",
     "text": [
      "Updating instance django__django-12155 with status True at row 74 and column 46\n"
     ]
    },
    {
     "name": "stderr",
     "output_type": "stream",
     "text": [
      "2024-12-09 14:11:56,535 - googleapiclient.discovery_cache - INFO - file_cache is only supported with oauth2client<4.0.0\n"
     ]
    },
    {
     "name": "stdout",
     "output_type": "stream",
     "text": [
      "Updating instance django__django-12209 with status True at row 76 and column 46\n"
     ]
    },
    {
     "name": "stderr",
     "output_type": "stream",
     "text": [
      "2024-12-09 14:11:57,395 - googleapiclient.discovery_cache - INFO - file_cache is only supported with oauth2client<4.0.0\n"
     ]
    },
    {
     "name": "stdout",
     "output_type": "stream",
     "text": [
      "Updating instance django__django-12262 with status True at row 77 and column 46\n"
     ]
    },
    {
     "name": "stderr",
     "output_type": "stream",
     "text": [
      "2024-12-09 14:11:57,738 - googleapiclient.discovery_cache - INFO - file_cache is only supported with oauth2client<4.0.0\n"
     ]
    },
    {
     "name": "stdout",
     "output_type": "stream",
     "text": [
      "Updating instance django__django-12276 with status True at row 79 and column 46\n"
     ]
    },
    {
     "name": "stderr",
     "output_type": "stream",
     "text": [
      "2024-12-09 14:11:58,505 - googleapiclient.discovery_cache - INFO - file_cache is only supported with oauth2client<4.0.0\n"
     ]
    },
    {
     "name": "stdout",
     "output_type": "stream",
     "text": [
      "Updating instance django__django-12304 with status True at row 80 and column 46\n"
     ]
    },
    {
     "name": "stderr",
     "output_type": "stream",
     "text": [
      "2024-12-09 14:11:58,830 - googleapiclient.discovery_cache - INFO - file_cache is only supported with oauth2client<4.0.0\n"
     ]
    },
    {
     "name": "stdout",
     "output_type": "stream",
     "text": [
      "Updating instance django__django-12419 with status True at row 84 and column 46\n"
     ]
    },
    {
     "name": "stderr",
     "output_type": "stream",
     "text": [
      "2024-12-09 14:11:59,148 - googleapiclient.discovery_cache - INFO - file_cache is only supported with oauth2client<4.0.0\n"
     ]
    },
    {
     "name": "stdout",
     "output_type": "stream",
     "text": [
      "Updating instance django__django-12663 with status True at row 85 and column 46\n"
     ]
    },
    {
     "name": "stderr",
     "output_type": "stream",
     "text": [
      "2024-12-09 14:11:59,495 - googleapiclient.discovery_cache - INFO - file_cache is only supported with oauth2client<4.0.0\n"
     ]
    },
    {
     "name": "stdout",
     "output_type": "stream",
     "text": [
      "Updating instance django__django-12708 with status True at row 86 and column 46\n"
     ]
    },
    {
     "name": "stderr",
     "output_type": "stream",
     "text": [
      "2024-12-09 14:11:59,833 - googleapiclient.discovery_cache - INFO - file_cache is only supported with oauth2client<4.0.0\n"
     ]
    },
    {
     "name": "stdout",
     "output_type": "stream",
     "text": [
      "Updating instance django__django-12713 with status True at row 87 and column 46\n"
     ]
    },
    {
     "name": "stderr",
     "output_type": "stream",
     "text": [
      "2024-12-09 14:12:00,160 - googleapiclient.discovery_cache - INFO - file_cache is only supported with oauth2client<4.0.0\n"
     ]
    },
    {
     "name": "stdout",
     "output_type": "stream",
     "text": [
      "Updating instance django__django-12741 with status True at row 88 and column 46\n"
     ]
    },
    {
     "name": "stderr",
     "output_type": "stream",
     "text": [
      "2024-12-09 14:12:01,041 - googleapiclient.discovery_cache - INFO - file_cache is only supported with oauth2client<4.0.0\n"
     ]
    },
    {
     "name": "stdout",
     "output_type": "stream",
     "text": [
      "Updating instance django__django-12754 with status True at row 89 and column 46\n"
     ]
    },
    {
     "name": "stderr",
     "output_type": "stream",
     "text": [
      "2024-12-09 14:12:01,381 - googleapiclient.discovery_cache - INFO - file_cache is only supported with oauth2client<4.0.0\n"
     ]
    },
    {
     "name": "stdout",
     "output_type": "stream",
     "text": [
      "Updating instance django__django-12774 with status True at row 90 and column 46\n"
     ]
    },
    {
     "name": "stderr",
     "output_type": "stream",
     "text": [
      "2024-12-09 14:12:01,711 - googleapiclient.discovery_cache - INFO - file_cache is only supported with oauth2client<4.0.0\n"
     ]
    },
    {
     "name": "stdout",
     "output_type": "stream",
     "text": [
      "Updating instance django__django-12858 with status True at row 91 and column 46\n"
     ]
    },
    {
     "name": "stderr",
     "output_type": "stream",
     "text": [
      "2024-12-09 14:12:02,011 - googleapiclient.discovery_cache - INFO - file_cache is only supported with oauth2client<4.0.0\n"
     ]
    },
    {
     "name": "stdout",
     "output_type": "stream",
     "text": [
      "Updating instance django__django-13012 with status True at row 93 and column 46\n"
     ]
    },
    {
     "name": "stderr",
     "output_type": "stream",
     "text": [
      "2024-12-09 14:12:02,320 - googleapiclient.discovery_cache - INFO - file_cache is only supported with oauth2client<4.0.0\n"
     ]
    },
    {
     "name": "stdout",
     "output_type": "stream",
     "text": [
      "Updating instance django__django-13028 with status True at row 95 and column 46\n"
     ]
    },
    {
     "name": "stderr",
     "output_type": "stream",
     "text": [
      "2024-12-09 14:12:02,632 - googleapiclient.discovery_cache - INFO - file_cache is only supported with oauth2client<4.0.0\n"
     ]
    },
    {
     "name": "stdout",
     "output_type": "stream",
     "text": [
      "Updating instance django__django-13033 with status True at row 96 and column 46\n"
     ]
    },
    {
     "name": "stderr",
     "output_type": "stream",
     "text": [
      "2024-12-09 14:12:02,949 - googleapiclient.discovery_cache - INFO - file_cache is only supported with oauth2client<4.0.0\n"
     ]
    },
    {
     "name": "stdout",
     "output_type": "stream",
     "text": [
      "Updating instance django__django-13089 with status True at row 97 and column 46\n"
     ]
    },
    {
     "name": "stderr",
     "output_type": "stream",
     "text": [
      "2024-12-09 14:12:03,770 - googleapiclient.discovery_cache - INFO - file_cache is only supported with oauth2client<4.0.0\n"
     ]
    },
    {
     "name": "stdout",
     "output_type": "stream",
     "text": [
      "Updating instance django__django-13109 with status True at row 98 and column 46\n"
     ]
    },
    {
     "name": "stderr",
     "output_type": "stream",
     "text": [
      "2024-12-09 14:12:04,803 - googleapiclient.discovery_cache - INFO - file_cache is only supported with oauth2client<4.0.0\n"
     ]
    },
    {
     "name": "stdout",
     "output_type": "stream",
     "text": [
      "Updating instance django__django-13112 with status True at row 99 and column 46\n"
     ]
    },
    {
     "name": "stderr",
     "output_type": "stream",
     "text": [
      "2024-12-09 14:12:05,690 - googleapiclient.discovery_cache - INFO - file_cache is only supported with oauth2client<4.0.0\n"
     ]
    },
    {
     "name": "stdout",
     "output_type": "stream",
     "text": [
      "Updating instance django__django-13121 with status True at row 100 and column 46\n"
     ]
    },
    {
     "name": "stderr",
     "output_type": "stream",
     "text": [
      "2024-12-09 14:12:06,006 - googleapiclient.discovery_cache - INFO - file_cache is only supported with oauth2client<4.0.0\n"
     ]
    },
    {
     "name": "stdout",
     "output_type": "stream",
     "text": [
      "Updating instance django__django-13279 with status True at row 105 and column 46\n"
     ]
    },
    {
     "name": "stderr",
     "output_type": "stream",
     "text": [
      "2024-12-09 14:12:06,338 - googleapiclient.discovery_cache - INFO - file_cache is only supported with oauth2client<4.0.0\n"
     ]
    },
    {
     "name": "stdout",
     "output_type": "stream",
     "text": [
      "Updating instance django__django-13297 with status True at row 106 and column 46\n"
     ]
    },
    {
     "name": "stderr",
     "output_type": "stream",
     "text": [
      "2024-12-09 14:12:06,648 - googleapiclient.discovery_cache - INFO - file_cache is only supported with oauth2client<4.0.0\n"
     ]
    },
    {
     "name": "stdout",
     "output_type": "stream",
     "text": [
      "Updating instance django__django-13315 with status True at row 107 and column 46\n"
     ]
    },
    {
     "name": "stderr",
     "output_type": "stream",
     "text": [
      "2024-12-09 14:12:07,530 - googleapiclient.discovery_cache - INFO - file_cache is only supported with oauth2client<4.0.0\n"
     ]
    },
    {
     "name": "stdout",
     "output_type": "stream",
     "text": [
      "Updating instance django__django-13363 with status True at row 111 and column 46\n"
     ]
    },
    {
     "name": "stderr",
     "output_type": "stream",
     "text": [
      "2024-12-09 14:12:07,845 - googleapiclient.discovery_cache - INFO - file_cache is only supported with oauth2client<4.0.0\n"
     ]
    },
    {
     "name": "stdout",
     "output_type": "stream",
     "text": [
      "Updating instance django__django-13401 with status True at row 112 and column 46\n"
     ]
    },
    {
     "name": "stderr",
     "output_type": "stream",
     "text": [
      "2024-12-09 14:12:09,069 - googleapiclient.discovery_cache - INFO - file_cache is only supported with oauth2client<4.0.0\n"
     ]
    },
    {
     "name": "stdout",
     "output_type": "stream",
     "text": [
      "Updating instance django__django-13406 with status True at row 113 and column 46\n"
     ]
    },
    {
     "name": "stderr",
     "output_type": "stream",
     "text": [
      "2024-12-09 14:12:09,371 - googleapiclient.discovery_cache - INFO - file_cache is only supported with oauth2client<4.0.0\n"
     ]
    },
    {
     "name": "stdout",
     "output_type": "stream",
     "text": [
      "Updating instance django__django-13410 with status True at row 114 and column 46\n",
      "Rate limit hit. Retrying in 1.63 seconds...\n"
     ]
    },
    {
     "name": "stderr",
     "output_type": "stream",
     "text": [
      "2024-12-09 14:12:11,370 - googleapiclient.discovery_cache - INFO - file_cache is only supported with oauth2client<4.0.0\n"
     ]
    },
    {
     "name": "stdout",
     "output_type": "stream",
     "text": [
      "Rate limit hit. Retrying in 2.10 seconds...\n"
     ]
    },
    {
     "name": "stderr",
     "output_type": "stream",
     "text": [
      "2024-12-09 14:12:13,733 - googleapiclient.discovery_cache - INFO - file_cache is only supported with oauth2client<4.0.0\n"
     ]
    },
    {
     "name": "stdout",
     "output_type": "stream",
     "text": [
      "Rate limit hit. Retrying in 4.67 seconds...\n"
     ]
    },
    {
     "name": "stderr",
     "output_type": "stream",
     "text": [
      "2024-12-09 14:12:18,701 - googleapiclient.discovery_cache - INFO - file_cache is only supported with oauth2client<4.0.0\n"
     ]
    },
    {
     "name": "stdout",
     "output_type": "stream",
     "text": [
      "Rate limit hit. Retrying in 8.11 seconds...\n"
     ]
    },
    {
     "name": "stderr",
     "output_type": "stream",
     "text": [
      "2024-12-09 14:12:27,091 - googleapiclient.discovery_cache - INFO - file_cache is only supported with oauth2client<4.0.0\n"
     ]
    },
    {
     "ename": "HttpError",
     "evalue": "<HttpError 429 when requesting https://sheets.googleapis.com/v4/spreadsheets/1W0gxh-NC9Sl01yrlTRPNGvyDQva3_lZPPPMQ2M8IP74/values/RUNS%21AU116?valueInputOption=RAW&alt=json returned \"Quota exceeded for quota metric 'Write requests' and limit 'Write requests per minute per user' of service 'sheets.googleapis.com' for consumer 'project_number:1005399045489'.\". Details: \"[{'@type': 'type.googleapis.com/google.rpc.ErrorInfo', 'reason': 'RATE_LIMIT_EXCEEDED', 'domain': 'googleapis.com', 'metadata': {'quota_limit_value': '60', 'service': 'sheets.googleapis.com', 'quota_location': 'global', 'consumer': 'projects/1005399045489', 'quota_metric': 'sheets.googleapis.com/write_requests', 'quota_limit': 'WriteRequestsPerMinutePerUser'}}, {'@type': 'type.googleapis.com/google.rpc.Help', 'links': [{'description': 'Request a higher quota limit.', 'url': 'https://cloud.google.com/docs/quotas/help/request_increase'}]}]\">",
     "output_type": "error",
     "traceback": [
      "\u001b[0;31m---------------------------------------------------------------------------\u001b[0m",
      "\u001b[0;31mHttpError\u001b[0m                                 Traceback (most recent call last)",
      "Cell \u001b[0;32mIn[4], line 2\u001b[0m\n\u001b[1;32m      1\u001b[0m \u001b[38;5;28;01mfor\u001b[39;00m resolved_instance \u001b[38;5;129;01min\u001b[39;00m resolved:\n\u001b[0;32m----> 2\u001b[0m     \u001b[43mupdate_instance_run_resolved_status\u001b[49m\u001b[43m(\u001b[49m\u001b[43mLOG_SHEET_ID\u001b[49m\u001b[43m,\u001b[49m\u001b[43m \u001b[49m\u001b[43mSHEET_ID\u001b[49m\u001b[43m,\u001b[49m\u001b[43m \u001b[49m\u001b[43mLOG_SHEET_NAME\u001b[49m\u001b[43m,\u001b[49m\u001b[43m \u001b[49m\u001b[43mnew_col_index\u001b[49m\u001b[43m,\u001b[49m\u001b[43m \u001b[49m\u001b[43mresolved_instance\u001b[49m\u001b[43m,\u001b[49m\u001b[43m \u001b[49m\u001b[38;5;28;43;01mTrue\u001b[39;49;00m\u001b[43m,\u001b[49m\u001b[43m \u001b[49m\u001b[43mid_mapping\u001b[49m\u001b[43m)\u001b[49m\n\u001b[1;32m      4\u001b[0m \u001b[38;5;28mprint\u001b[39m(\u001b[38;5;124mf\u001b[39m\u001b[38;5;124m\"\u001b[39m\u001b[38;5;124mUpdated all \u001b[39m\u001b[38;5;132;01m{\u001b[39;00m\u001b[38;5;28mlen\u001b[39m(resolved)\u001b[38;5;132;01m}\u001b[39;00m\u001b[38;5;124m instances\u001b[39m\u001b[38;5;124m\"\u001b[39m)\n",
      "File \u001b[0;32m~/codestory/SWE-bench/swebench/google_sheets.py:222\u001b[0m, in \u001b[0;36mupdate_instance_run_resolved_status\u001b[0;34m(spreadsheet_id, sheet_id, sheet_name, column_index, instance_id, status, id_mapping)\u001b[0m\n\u001b[1;32m    219\u001b[0m     \u001b[38;5;28mprint\u001b[39m(\u001b[38;5;124mf\u001b[39m\u001b[38;5;124m\"\u001b[39m\u001b[38;5;124mInstance ID \u001b[39m\u001b[38;5;132;01m{\u001b[39;00minstance_id\u001b[38;5;132;01m}\u001b[39;00m\u001b[38;5;124m not found. Cannot update.\u001b[39m\u001b[38;5;124m\"\u001b[39m)\n\u001b[1;32m    220\u001b[0m     \u001b[38;5;28;01mreturn\u001b[39;00m\n\u001b[0;32m--> 222\u001b[0m \u001b[43mset_cell_value\u001b[49m\u001b[43m(\u001b[49m\u001b[43mspreadsheet_id\u001b[49m\u001b[43m,\u001b[49m\u001b[43m \u001b[49m\u001b[43msheet_name\u001b[49m\u001b[43m,\u001b[49m\u001b[43m \u001b[49m\u001b[43mrow_index\u001b[49m\u001b[43m,\u001b[49m\u001b[43m \u001b[49m\u001b[43mcolumn_index\u001b[49m\u001b[43m,\u001b[49m\u001b[43m \u001b[49m\u001b[43mstatus\u001b[49m\u001b[43m)\u001b[49m\n\u001b[1;32m    223\u001b[0m \u001b[38;5;28mprint\u001b[39m(\u001b[38;5;124mf\u001b[39m\u001b[38;5;124m\"\u001b[39m\u001b[38;5;124mUpdating instance \u001b[39m\u001b[38;5;132;01m{\u001b[39;00minstance_id\u001b[38;5;132;01m}\u001b[39;00m\u001b[38;5;124m with status \u001b[39m\u001b[38;5;132;01m{\u001b[39;00mstatus\u001b[38;5;132;01m}\u001b[39;00m\u001b[38;5;124m at row \u001b[39m\u001b[38;5;132;01m{\u001b[39;00mrow_index\u001b[38;5;132;01m}\u001b[39;00m\u001b[38;5;124m and column \u001b[39m\u001b[38;5;132;01m{\u001b[39;00mcolumn_index\u001b[38;5;132;01m}\u001b[39;00m\u001b[38;5;124m\"\u001b[39m)\n",
      "File \u001b[0;32m~/codestory/SWE-bench/swebench/google_sheets.py:29\u001b[0m, in \u001b[0;36mexponential_backoff.<locals>.decorator.<locals>.wrapper\u001b[0;34m(*args, **kwargs)\u001b[0m\n\u001b[1;32m     27\u001b[0m \u001b[38;5;28;01mfor\u001b[39;00m n \u001b[38;5;129;01min\u001b[39;00m \u001b[38;5;28mrange\u001b[39m(max_retries):\n\u001b[1;32m     28\u001b[0m     \u001b[38;5;28;01mtry\u001b[39;00m:\n\u001b[0;32m---> 29\u001b[0m         \u001b[38;5;28;01mreturn\u001b[39;00m \u001b[43mfunc\u001b[49m\u001b[43m(\u001b[49m\u001b[38;5;241;43m*\u001b[39;49m\u001b[43margs\u001b[49m\u001b[43m,\u001b[49m\u001b[43m \u001b[49m\u001b[38;5;241;43m*\u001b[39;49m\u001b[38;5;241;43m*\u001b[39;49m\u001b[43mkwargs\u001b[49m\u001b[43m)\u001b[49m\n\u001b[1;32m     30\u001b[0m     \u001b[38;5;28;01mexcept\u001b[39;00m HttpError \u001b[38;5;28;01mas\u001b[39;00m e:\n\u001b[1;32m     31\u001b[0m         \u001b[38;5;66;03m# Only retry on rate limit errors (429)\u001b[39;00m\n\u001b[1;32m     32\u001b[0m         \u001b[38;5;28;01mif\u001b[39;00m e\u001b[38;5;241m.\u001b[39mresp\u001b[38;5;241m.\u001b[39mstatus \u001b[38;5;241m!=\u001b[39m \u001b[38;5;241m429\u001b[39m:\n",
      "File \u001b[0;32m~/codestory/SWE-bench/swebench/google_sheets.py:108\u001b[0m, in \u001b[0;36mset_cell_value\u001b[0;34m(spreadsheet_id, sheet_name, row, col_index, value)\u001b[0m\n\u001b[1;32m    101\u001b[0m cell_range \u001b[38;5;241m=\u001b[39m \u001b[38;5;124mf\u001b[39m\u001b[38;5;124m\"\u001b[39m\u001b[38;5;132;01m{\u001b[39;00msheet_name\u001b[38;5;132;01m}\u001b[39;00m\u001b[38;5;124m!\u001b[39m\u001b[38;5;132;01m{\u001b[39;00mcol_letter\u001b[38;5;132;01m}\u001b[39;00m\u001b[38;5;132;01m{\u001b[39;00mrow\u001b[38;5;250m \u001b[39m\u001b[38;5;241m+\u001b[39m\u001b[38;5;250m \u001b[39m\u001b[38;5;241m1\u001b[39m\u001b[38;5;132;01m}\u001b[39;00m\u001b[38;5;124m\"\u001b[39m\n\u001b[1;32m    102\u001b[0m body \u001b[38;5;241m=\u001b[39m {\u001b[38;5;124m\"\u001b[39m\u001b[38;5;124mvalues\u001b[39m\u001b[38;5;124m\"\u001b[39m: [[value]]}\n\u001b[1;32m    103\u001b[0m \u001b[43mservice\u001b[49m\u001b[38;5;241;43m.\u001b[39;49m\u001b[43mspreadsheets\u001b[49m\u001b[43m(\u001b[49m\u001b[43m)\u001b[49m\u001b[38;5;241;43m.\u001b[39;49m\u001b[43mvalues\u001b[49m\u001b[43m(\u001b[49m\u001b[43m)\u001b[49m\u001b[38;5;241;43m.\u001b[39;49m\u001b[43mupdate\u001b[49m\u001b[43m(\u001b[49m\n\u001b[1;32m    104\u001b[0m \u001b[43m    \u001b[49m\u001b[43mspreadsheetId\u001b[49m\u001b[38;5;241;43m=\u001b[39;49m\u001b[43mspreadsheet_id\u001b[49m\u001b[43m,\u001b[49m\n\u001b[1;32m    105\u001b[0m \u001b[43m    \u001b[49m\u001b[38;5;28;43mrange\u001b[39;49m\u001b[38;5;241;43m=\u001b[39;49m\u001b[43mcell_range\u001b[49m\u001b[43m,\u001b[49m\n\u001b[1;32m    106\u001b[0m \u001b[43m    \u001b[49m\u001b[43mvalueInputOption\u001b[49m\u001b[38;5;241;43m=\u001b[39;49m\u001b[38;5;124;43m\"\u001b[39;49m\u001b[38;5;124;43mRAW\u001b[39;49m\u001b[38;5;124;43m\"\u001b[39;49m\u001b[43m,\u001b[49m\n\u001b[1;32m    107\u001b[0m \u001b[43m    \u001b[49m\u001b[43mbody\u001b[49m\u001b[38;5;241;43m=\u001b[39;49m\u001b[43mbody\u001b[49m\n\u001b[0;32m--> 108\u001b[0m \u001b[43m\u001b[49m\u001b[43m)\u001b[49m\u001b[38;5;241;43m.\u001b[39;49m\u001b[43mexecute\u001b[49m\u001b[43m(\u001b[49m\u001b[43m)\u001b[49m\n",
      "File \u001b[0;32m~/codestory/SWE-bench/venv/lib/python3.11/site-packages/googleapiclient/_helpers.py:130\u001b[0m, in \u001b[0;36mpositional.<locals>.positional_decorator.<locals>.positional_wrapper\u001b[0;34m(*args, **kwargs)\u001b[0m\n\u001b[1;32m    128\u001b[0m     \u001b[38;5;28;01melif\u001b[39;00m positional_parameters_enforcement \u001b[38;5;241m==\u001b[39m POSITIONAL_WARNING:\n\u001b[1;32m    129\u001b[0m         logger\u001b[38;5;241m.\u001b[39mwarning(message)\n\u001b[0;32m--> 130\u001b[0m \u001b[38;5;28;01mreturn\u001b[39;00m \u001b[43mwrapped\u001b[49m\u001b[43m(\u001b[49m\u001b[38;5;241;43m*\u001b[39;49m\u001b[43margs\u001b[49m\u001b[43m,\u001b[49m\u001b[43m \u001b[49m\u001b[38;5;241;43m*\u001b[39;49m\u001b[38;5;241;43m*\u001b[39;49m\u001b[43mkwargs\u001b[49m\u001b[43m)\u001b[49m\n",
      "File \u001b[0;32m~/codestory/SWE-bench/venv/lib/python3.11/site-packages/googleapiclient/http.py:938\u001b[0m, in \u001b[0;36mHttpRequest.execute\u001b[0;34m(self, http, num_retries)\u001b[0m\n\u001b[1;32m    936\u001b[0m     callback(resp)\n\u001b[1;32m    937\u001b[0m \u001b[38;5;28;01mif\u001b[39;00m resp\u001b[38;5;241m.\u001b[39mstatus \u001b[38;5;241m>\u001b[39m\u001b[38;5;241m=\u001b[39m \u001b[38;5;241m300\u001b[39m:\n\u001b[0;32m--> 938\u001b[0m     \u001b[38;5;28;01mraise\u001b[39;00m HttpError(resp, content, uri\u001b[38;5;241m=\u001b[39m\u001b[38;5;28mself\u001b[39m\u001b[38;5;241m.\u001b[39muri)\n\u001b[1;32m    939\u001b[0m \u001b[38;5;28;01mreturn\u001b[39;00m \u001b[38;5;28mself\u001b[39m\u001b[38;5;241m.\u001b[39mpostproc(resp, content)\n",
      "\u001b[0;31mHttpError\u001b[0m: <HttpError 429 when requesting https://sheets.googleapis.com/v4/spreadsheets/1W0gxh-NC9Sl01yrlTRPNGvyDQva3_lZPPPMQ2M8IP74/values/RUNS%21AU116?valueInputOption=RAW&alt=json returned \"Quota exceeded for quota metric 'Write requests' and limit 'Write requests per minute per user' of service 'sheets.googleapis.com' for consumer 'project_number:1005399045489'.\". Details: \"[{'@type': 'type.googleapis.com/google.rpc.ErrorInfo', 'reason': 'RATE_LIMIT_EXCEEDED', 'domain': 'googleapis.com', 'metadata': {'quota_limit_value': '60', 'service': 'sheets.googleapis.com', 'quota_location': 'global', 'consumer': 'projects/1005399045489', 'quota_metric': 'sheets.googleapis.com/write_requests', 'quota_limit': 'WriteRequestsPerMinutePerUser'}}, {'@type': 'type.googleapis.com/google.rpc.Help', 'links': [{'description': 'Request a higher quota limit.', 'url': 'https://cloud.google.com/docs/quotas/help/request_increase'}]}]\">"
     ]
    }
   ],
   "source": [
    "for resolved_instance in resolved:\n",
    "    update_instance_run_resolved_status(LOG_SHEET_ID, SHEET_ID, LOG_SHEET_NAME, new_col_index, resolved_instance, True, id_mapping)\n",
    "    # time.sleep(1)  # Add a 1-second delay between requests\n",
    "    \n",
    "print(f\"Updated all {len(resolved)} instances\")"
   ]
  }
 ],
 "metadata": {
  "kernelspec": {
   "display_name": "venv",
   "language": "python",
   "name": "python3"
  },
  "language_info": {
   "codemirror_mode": {
    "name": "ipython",
    "version": 3
   },
   "file_extension": ".py",
   "mimetype": "text/x-python",
   "name": "python",
   "nbconvert_exporter": "python",
   "pygments_lexer": "ipython3",
   "version": "3.11.6"
  }
 },
 "nbformat": 4,
 "nbformat_minor": 2
}
