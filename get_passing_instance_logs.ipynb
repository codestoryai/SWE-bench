{
 "cells": [
  {
   "cell_type": "code",
   "execution_count": 2,
   "metadata": {},
   "outputs": [
    {
     "name": "stderr",
     "output_type": "stream",
     "text": [
      "2024-12-11 14:47:03,042 - INFO - Starting to process blobs in bucket: swebench_logs\n",
      "2024-12-11 14:48:02,975 - INFO - Finished processing all blobs.\n",
      "2024-12-11 14:48:02,976 - INFO - Instance statuses written to output.json\n"
     ]
    },
    {
     "name": "stdout",
     "output_type": "stream",
     "text": [
      "Found 835 json reports\n",
      "Instances count: 420\n"
     ]
    }
   ],
   "source": [
    "from google.cloud import storage\n",
    "import json\n",
    "import logging\n",
    "\n",
    "# Set up logging\n",
    "logging.basicConfig(level=logging.INFO, format='%(asctime)s - %(levelname)s - %(message)s')\n",
    "\n",
    "bucket_name = \"swebench_logs\"\n",
    "output_file = \"output.json\"\n",
    "\n",
    "client = storage.Client()\n",
    "bucket = client.bucket(bucket_name)\n",
    "\n",
    "instance_status = {}\n",
    "\n",
    "logging.info(f\"Starting to process blobs in bucket: {bucket_name}\")\n",
    "\n",
    "json_reports = []\n",
    "\n",
    "for blob in bucket.list_blobs():\n",
    "    parts = blob.name.split('/')\n",
    "    # We expect something like: instance_id/run_id/report.json\n",
    "    # So we need at least 3 parts after splitting by '/'\n",
    "    # Example: [\"<instance_id>\", \"<run_id>\", \"report.json\"]\n",
    "    # if len(parts) < 3:\n",
    "    #     logging.warning(f\"Skipping blob {blob.name} as it does not match the expected structure\")\n",
    "    #     continue\n",
    "    \n",
    "    filename = parts[-1]\n",
    "    if filename == 'report.json':\n",
    "        instance_id = parts[0]\n",
    "        run_id = parts[1]\n",
    "\n",
    "        # Add the instance_id to the list of json_reports\n",
    "        json_reports.append(instance_id)\n",
    "\n",
    "        # Download and parse the JSON\n",
    "        data = json.loads(blob.download_as_string())\n",
    "\n",
    "        # The JSON should have a top-level key = instance_id, which has an object including 'resolved'\n",
    "        instance_data = data.get(instance_id)\n",
    "        if instance_data is None:\n",
    "            logging.error(f\"[{instance_id}]: {run_id} missing instance data in report.json\")\n",
    "            resolved = False\n",
    "        else:\n",
    "            resolved = instance_data.get(\"resolved\")\n",
    "            if resolved is None:\n",
    "                logging.error(f\"[{instance_id}]: {run_id} missing 'resolved' field in report.json\")\n",
    "                resolved = False\n",
    "            else:\n",
    "                resolved = bool(resolved)\n",
    "\n",
    "        # If we haven't tracked this instance_id yet, initialize it\n",
    "        if instance_id not in instance_status:\n",
    "            instance_status[instance_id] = False\n",
    "\n",
    "        # If this run for the instance is resolved, mark the instance as success\n",
    "        if resolved == True:\n",
    "            instance_status[instance_id] = True\n",
    "        else:\n",
    "            instance_status[instance_id] = False\n",
    "\n",
    "logging.info(\"Finished processing all blobs.\")\n",
    "\n",
    "print(f\"Found {len(json_reports)} json reports\")\n",
    "\n",
    "# Print instances count\n",
    "print(f\"Instances count: {len(instance_status)}\")\n",
    "# After processing all, write the instance_status map to a local JSON file\n",
    "with open(output_file, 'w') as f:\n",
    "    json.dump(instance_status, f, indent=2)\n",
    "\n",
    "logging.info(f\"Instance statuses written to {output_file}\")"
   ]
  }
 ],
 "metadata": {
  "kernelspec": {
   "display_name": "venv",
   "language": "python",
   "name": "python3"
  },
  "language_info": {
   "codemirror_mode": {
    "name": "ipython",
    "version": 3
   },
   "file_extension": ".py",
   "mimetype": "text/x-python",
   "name": "python",
   "nbconvert_exporter": "python",
   "pygments_lexer": "ipython3",
   "version": "3.11.6"
  }
 },
 "nbformat": 4,
 "nbformat_minor": 2
}
