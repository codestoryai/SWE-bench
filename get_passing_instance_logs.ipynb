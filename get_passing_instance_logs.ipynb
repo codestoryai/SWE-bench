{
 "cells": [
  {
   "cell_type": "code",
   "execution_count": 11,
   "metadata": {},
   "outputs": [
    {
     "name": "stdout",
     "output_type": "stream",
     "text": [
      "['astropy__astropy-12907', '1733831792', 'eval.sh']\n",
      "['astropy__astropy-12907', '1733831792', 'mcts-1733831792.json']\n",
      "['astropy__astropy-12907', '1733831792', 'patch.diff']\n",
      "['astropy__astropy-12907', '1733831792', 'report.json']\n",
      "Found report.json for 1733831792\n"
     ]
    },
    {
     "ename": "OSError",
     "evalue": "[Errno 63] File name too long: b'{\\n    \"astropy__astropy-12907\": {\\n        \"patch_is_None\": false,\\n        \"patch_exists\": true,\\n        \"patch_successfully_applied\": true,\\n        \"resolved\": true,\\n        \"tests_status\": {\\n            \"FAIL_TO_PASS\": {\\n                \"success\": [\\n                    \"astropy/modeling/tests/test_separable.py::test_separable[compound_model6-result6]\",\\n                    \"astropy/modeling/tests/test_separable.py::test_separable[compound_model9-result9]\"\\n                ],\\n                \"failure\": []\\n            },\\n            \"PASS_TO_PASS\": {\\n                \"success\": [\\n                    \"astropy/modeling/tests/test_separable.py::test_coord_matrix\",\\n                    \"astropy/modeling/tests/test_separable.py::test_cdot\",\\n                    \"astropy/modeling/tests/test_separable.py::test_cstack\",\\n                    \"astropy/modeling/tests/test_separable.py::test_arith_oper\",\\n                    \"astropy/modeling/tests/test_separable.py::test_separable[compound_model0-result0]\",\\n                    \"astropy/modeling/tests/test_separable.py::test_separable[compound_model1-result1]\",\\n                    \"astropy/modeling/tests/test_separable.py::test_separable[compound_model2-result2]\",\\n                    \"astropy/modeling/tests/test_separable.py::test_separable[compound_model3-result3]\",\\n                    \"astropy/modeling/tests/test_separable.py::test_separable[compound_model4-result4]\",\\n                    \"astropy/modeling/tests/test_separable.py::test_separable[compound_model5-result5]\",\\n                    \"astropy/modeling/tests/test_separable.py::test_separable[compound_model7-result7]\",\\n                    \"astropy/modeling/tests/test_separable.py::test_separable[compound_model8-result8]\",\\n                    \"astropy/modeling/tests/test_separable.py::test_custom_model_separable\"\\n                ],\\n                \"failure\": []\\n            },\\n            \"FAIL_TO_FAIL\": {\\n                \"success\": [],\\n                \"failure\": []\\n            },\\n            \"PASS_TO_FAIL\": {\\n                \"success\": [],\\n                \"failure\": []\\n            }\\n        }\\n    }\\n}'",
     "output_type": "error",
     "traceback": [
      "\u001b[0;31m---------------------------------------------------------------------------\u001b[0m",
      "\u001b[0;31mOSError\u001b[0m                                   Traceback (most recent call last)",
      "Cell \u001b[0;32mIn[11], line 25\u001b[0m\n\u001b[1;32m     22\u001b[0m \u001b[38;5;28mprint\u001b[39m(\u001b[38;5;124mf\u001b[39m\u001b[38;5;124m\"\u001b[39m\u001b[38;5;124mFound report.json for \u001b[39m\u001b[38;5;132;01m{\u001b[39;00minstance_id\u001b[38;5;132;01m}\u001b[39;00m\u001b[38;5;124m\"\u001b[39m)\n\u001b[1;32m     24\u001b[0m \u001b[38;5;66;03m# Open the report.json file\u001b[39;00m\n\u001b[0;32m---> 25\u001b[0m \u001b[38;5;28;01mwith\u001b[39;00m \u001b[38;5;28;43mopen\u001b[39;49m\u001b[43m(\u001b[49m\u001b[43mblob\u001b[49m\u001b[38;5;241;43m.\u001b[39;49m\u001b[43mdownload_as_string\u001b[49m\u001b[43m(\u001b[49m\u001b[43m)\u001b[49m\u001b[43m,\u001b[49m\u001b[43m \u001b[49m\u001b[38;5;124;43m'\u001b[39;49m\u001b[38;5;124;43mr\u001b[39;49m\u001b[38;5;124;43m'\u001b[39;49m\u001b[43m)\u001b[49m \u001b[38;5;28;01mas\u001b[39;00m f:\n\u001b[1;32m     26\u001b[0m     report \u001b[38;5;241m=\u001b[39m json\u001b[38;5;241m.\u001b[39mload(f)\n\u001b[1;32m     28\u001b[0m \u001b[38;5;66;03m# Get the logs\u001b[39;00m\n",
      "File \u001b[0;32m~/codestory/SWE-bench/venv/lib/python3.11/site-packages/IPython/core/interactiveshell.py:324\u001b[0m, in \u001b[0;36m_modified_open\u001b[0;34m(file, *args, **kwargs)\u001b[0m\n\u001b[1;32m    317\u001b[0m \u001b[38;5;28;01mif\u001b[39;00m file \u001b[38;5;129;01min\u001b[39;00m {\u001b[38;5;241m0\u001b[39m, \u001b[38;5;241m1\u001b[39m, \u001b[38;5;241m2\u001b[39m}:\n\u001b[1;32m    318\u001b[0m     \u001b[38;5;28;01mraise\u001b[39;00m \u001b[38;5;167;01mValueError\u001b[39;00m(\n\u001b[1;32m    319\u001b[0m         \u001b[38;5;124mf\u001b[39m\u001b[38;5;124m\"\u001b[39m\u001b[38;5;124mIPython won\u001b[39m\u001b[38;5;124m'\u001b[39m\u001b[38;5;124mt let you open fd=\u001b[39m\u001b[38;5;132;01m{\u001b[39;00mfile\u001b[38;5;132;01m}\u001b[39;00m\u001b[38;5;124m by default \u001b[39m\u001b[38;5;124m\"\u001b[39m\n\u001b[1;32m    320\u001b[0m         \u001b[38;5;124m\"\u001b[39m\u001b[38;5;124mas it is likely to crash IPython. If you know what you are doing, \u001b[39m\u001b[38;5;124m\"\u001b[39m\n\u001b[1;32m    321\u001b[0m         \u001b[38;5;124m\"\u001b[39m\u001b[38;5;124myou can use builtins\u001b[39m\u001b[38;5;124m'\u001b[39m\u001b[38;5;124m open.\u001b[39m\u001b[38;5;124m\"\u001b[39m\n\u001b[1;32m    322\u001b[0m     )\n\u001b[0;32m--> 324\u001b[0m \u001b[38;5;28;01mreturn\u001b[39;00m \u001b[43mio_open\u001b[49m\u001b[43m(\u001b[49m\u001b[43mfile\u001b[49m\u001b[43m,\u001b[49m\u001b[43m \u001b[49m\u001b[38;5;241;43m*\u001b[39;49m\u001b[43margs\u001b[49m\u001b[43m,\u001b[49m\u001b[43m \u001b[49m\u001b[38;5;241;43m*\u001b[39;49m\u001b[38;5;241;43m*\u001b[39;49m\u001b[43mkwargs\u001b[49m\u001b[43m)\u001b[49m\n",
      "\u001b[0;31mOSError\u001b[0m: [Errno 63] File name too long: b'{\\n    \"astropy__astropy-12907\": {\\n        \"patch_is_None\": false,\\n        \"patch_exists\": true,\\n        \"patch_successfully_applied\": true,\\n        \"resolved\": true,\\n        \"tests_status\": {\\n            \"FAIL_TO_PASS\": {\\n                \"success\": [\\n                    \"astropy/modeling/tests/test_separable.py::test_separable[compound_model6-result6]\",\\n                    \"astropy/modeling/tests/test_separable.py::test_separable[compound_model9-result9]\"\\n                ],\\n                \"failure\": []\\n            },\\n            \"PASS_TO_PASS\": {\\n                \"success\": [\\n                    \"astropy/modeling/tests/test_separable.py::test_coord_matrix\",\\n                    \"astropy/modeling/tests/test_separable.py::test_cdot\",\\n                    \"astropy/modeling/tests/test_separable.py::test_cstack\",\\n                    \"astropy/modeling/tests/test_separable.py::test_arith_oper\",\\n                    \"astropy/modeling/tests/test_separable.py::test_separable[compound_model0-result0]\",\\n                    \"astropy/modeling/tests/test_separable.py::test_separable[compound_model1-result1]\",\\n                    \"astropy/modeling/tests/test_separable.py::test_separable[compound_model2-result2]\",\\n                    \"astropy/modeling/tests/test_separable.py::test_separable[compound_model3-result3]\",\\n                    \"astropy/modeling/tests/test_separable.py::test_separable[compound_model4-result4]\",\\n                    \"astropy/modeling/tests/test_separable.py::test_separable[compound_model5-result5]\",\\n                    \"astropy/modeling/tests/test_separable.py::test_separable[compound_model7-result7]\",\\n                    \"astropy/modeling/tests/test_separable.py::test_separable[compound_model8-result8]\",\\n                    \"astropy/modeling/tests/test_separable.py::test_custom_model_separable\"\\n                ],\\n                \"failure\": []\\n            },\\n            \"FAIL_TO_FAIL\": {\\n                \"success\": [],\\n                \"failure\": []\\n            },\\n            \"PASS_TO_FAIL\": {\\n                \"success\": [],\\n                \"failure\": []\\n            }\\n        }\\n    }\\n}'"
     ]
    }
   ],
   "source": [
    "from google.cloud import storage\n",
    "import json\n",
    "\n",
    "bucket_name = \"swebench_logs\"\n",
    "\n",
    "client = storage.Client()\n",
    "bucket = client.bucket(bucket_name)\n",
    "\n",
    "instance_status = {}\n",
    "\n",
    "for blob in bucket.list_blobs():\n",
    "    parts = blob.name.split('/')\n",
    "    print(parts)\n",
    "    if len(parts) < 3:\n",
    "        print(f\"Skipping {blob.name} because it doesn't have enough parts\")\n",
    "        print(parts)\n",
    "        continue\n",
    "\n",
    "    filename = parts[-1]\n",
    "    if filename == 'report.json':\n",
    "        instance_id = parts[1]\n",
    "        run_id = parts[2]\n",
    "        print(f\"Found report.json for {instance_id}\")\n",
    "        \n",
    "        # Open the report.json file\n",
    "        with open(blob.download_as_string(), 'r') as f:\n",
    "            report = json.load(f)\n",
    "        \n",
    "        # Get the logs\n",
    "        instance_resolved = report[instance_id]['resolved']\n",
    "        print(instance_resolved)\n",
    "        if instance_resolved:\n",
    "            print(f\"Instance {instance_id} is resolved\")\n"
   ]
  }
 ],
 "metadata": {
  "kernelspec": {
   "display_name": "venv",
   "language": "python",
   "name": "python3"
  },
  "language_info": {
   "codemirror_mode": {
    "name": "ipython",
    "version": 3
   },
   "file_extension": ".py",
   "mimetype": "text/x-python",
   "name": "python",
   "nbconvert_exporter": "python",
   "pygments_lexer": "ipython3",
   "version": "3.11.6"
  }
 },
 "nbformat": 4,
 "nbformat_minor": 2
}
