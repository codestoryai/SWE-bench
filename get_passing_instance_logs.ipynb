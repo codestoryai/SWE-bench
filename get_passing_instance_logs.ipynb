{
 "cells": [
  {
   "cell_type": "code",
   "execution_count": 9,
   "metadata": {},
   "outputs": [
    {
     "name": "stderr",
     "output_type": "stream",
     "text": [
      "2024-12-11 15:21:28,686 - INFO - Starting to process blobs in bucket: swebench_logs\n"
     ]
    },
    {
     "name": "stdout",
     "output_type": "stream",
     "text": [
      "django__django-12273/1733625780/eval.sh\n",
      "['django__django-12273', '1733625780', 'eval.sh']\n",
      "django__django-12273/1733625780/mcts-1733625780.json\n",
      "['django__django-12273', '1733625780', 'mcts-1733625780.json']\n",
      "django__django-12273/1733625780/patch.diff\n",
      "['django__django-12273', '1733625780', 'patch.diff']\n",
      "django__django-12273/1733625780/report.json\n",
      "['django__django-12273', '1733625780', 'report.json']\n",
      "12273 data from django__django-12273/1733625780/report.json \n",
      "{'django__django-12273': {'patch_is_None': False, 'patch_exists': True, 'patch_successfully_applied': True, 'resolved': True, 'tests_status': {'FAIL_TO_PASS': {'success': ['test_create_new_instance_with_pk_equals_none (model_inheritance_regress.tests.ModelInheritanceTest)', 'test_create_new_instance_with_pk_equals_none_multi_inheritance (model_inheritance_regress.tests.ModelInheritanceTest)'], 'failure': []}, 'PASS_TO_PASS': {'success': ['test_abstract_base_class_m2m_relation_inheritance (model_inheritance_regress.tests.ModelInheritanceTest)', 'test_abstract_verbose_name_plural_inheritance (model_inheritance_regress.tests.ModelInheritanceTest)', 'test_all_fields_from_abstract_base_class (model_inheritance_regress.tests.ModelInheritanceTest)', 'test_concrete_abstract_concrete_pk (model_inheritance_regress.tests.ModelInheritanceTest)', 'test_filter_with_parent_fk (model_inheritance_regress.tests.ModelInheritanceTest)', 'test_get_next_previous_by_date (model_inheritance_regress.tests.ModelInheritanceTest)', 'test_id_field_update_on_ancestor_change (model_inheritance_regress.tests.ModelInheritanceTest)', 'test_inheritance_joins (model_inheritance_regress.tests.ModelInheritanceTest)', 'test_inheritance_resolve_columns (model_inheritance_regress.tests.ModelInheritanceTest)', 'test_inheritance_select_related (model_inheritance_regress.tests.ModelInheritanceTest)', 'test_inherited_fields (model_inheritance_regress.tests.ModelInheritanceTest)', 'test_inherited_nullable_exclude (model_inheritance_regress.tests.ModelInheritanceTest)', 'test_inherited_unique_field_with_form (model_inheritance_regress.tests.ModelInheritanceTest)', 'test_issue_11764 (model_inheritance_regress.tests.ModelInheritanceTest)', 'test_issue_21554 (model_inheritance_regress.tests.ModelInheritanceTest)', 'test_issue_6755 (model_inheritance_regress.tests.ModelInheritanceTest)', 'test_issue_7105 (model_inheritance_regress.tests.ModelInheritanceTest)', 'test_issue_7276 (model_inheritance_regress.tests.ModelInheritanceTest)', 'test_issue_7488 (model_inheritance_regress.tests.ModelInheritanceTest)', 'test_issue_7853 (model_inheritance_regress.tests.ModelInheritanceTest)', 'test_model_inheritance (model_inheritance_regress.tests.ModelInheritanceTest)', 'test_ptr_accessor_assigns_state (model_inheritance_regress.tests.ModelInheritanceTest)', 'test_queries_on_parent_access (model_inheritance_regress.tests.ModelInheritanceTest)', 'test_queryset_update_on_parent_model (model_inheritance_regress.tests.ModelInheritanceTest)', 'test_related_filtering_query_efficiency_ticket_15844 (model_inheritance_regress.tests.ModelInheritanceTest)', 'test_use_explicit_o2o_to_parent_as_pk (model_inheritance_regress.tests.ModelInheritanceTest)', 'test_use_explicit_o2o_to_parent_from_abstract_model (model_inheritance_regress.tests.ModelInheritanceTest)'], 'failure': []}, 'FAIL_TO_FAIL': {'success': [], 'failure': []}, 'PASS_TO_FAIL': {'success': [], 'failure': []}}}}\n",
      "{'astropy__astropy-12907': True, 'astropy__astropy-13033': False, 'astropy__astropy-13236': False, 'astropy__astropy-13398': False, 'astropy__astropy-13453': False, 'astropy__astropy-13579': True, 'astropy__astropy-14096': True, 'astropy__astropy-14182': False, 'astropy__astropy-14309': True, 'astropy__astropy-14365': False, 'astropy__astropy-14369': False, 'astropy__astropy-14508': True, 'astropy__astropy-14539': True, 'astropy__astropy-14598': False, 'astropy__astropy-14995': True, 'astropy__astropy-7166': True, 'astropy__astropy-7336': True, 'astropy__astropy-7606': False, 'astropy__astropy-7671': True, 'astropy__astropy-8707': False, 'django__django-10097': False, 'django__django-10554': False, 'django__django-10880': True, 'django__django-10914': True, 'django__django-10973': True, 'django__django-10999': False, 'django__django-11066': True, 'django__django-11087': False, 'django__django-11095': True, 'django__django-11099': True, 'django__django-11119': True, 'django__django-11133': True, 'django__django-11138': False, 'django__django-11141': False, 'django__django-11149': True, 'django__django-11163': True, 'django__django-11179': True, 'django__django-11206': False, 'django__django-11211': True, 'django__django-11239': False, 'django__django-11265': False, 'django__django-11276': True, 'django__django-11292': True, 'django__django-11333': True, 'django__django-11400': False, 'django__django-11433': False, 'django__django-11451': True, 'django__django-11477': False, 'django__django-11490': False, 'django__django-11532': True, 'django__django-11551': True, 'django__django-11555': False, 'django__django-11603': True, 'django__django-11728': False, 'django__django-11734': False, 'django__django-11749': True, 'django__django-11790': False, 'django__django-11815': True, 'django__django-11820': False, 'django__django-11848': False, 'django__django-11880': True, 'django__django-11951': True, 'django__django-11964': False, 'django__django-11999': True, 'django__django-12039': False, 'django__django-12050': True, 'django__django-12125': False, 'django__django-12143': True, 'django__django-12193': True, 'django__django-12209': True, 'django__django-12262': True, 'django__django-12273': True}\n",
      "django__django-12273/1733625780/run_instance.log\n",
      "['django__django-12273', '1733625780', 'run_instance.log']\n",
      "django__django-12273/1733625780/test_output.txt\n",
      "['django__django-12273', '1733625780', 'test_output.txt']\n",
      "django__django-12273/1733755349/eval.sh\n",
      "['django__django-12273', '1733755349', 'eval.sh']\n",
      "django__django-12273/1733755349/mcts-1733755349.json\n",
      "['django__django-12273', '1733755349', 'mcts-1733755349.json']\n",
      "django__django-12273/1733755349/patch.diff\n",
      "['django__django-12273', '1733755349', 'patch.diff']\n",
      "django__django-12273/1733755349/report.json\n",
      "['django__django-12273', '1733755349', 'report.json']\n",
      "12273 data from django__django-12273/1733755349/report.json \n",
      "{'django__django-12273': {'patch_is_None': False, 'patch_exists': True, 'patch_successfully_applied': True, 'resolved': False, 'tests_status': {'FAIL_TO_PASS': {'success': [], 'failure': ['test_create_new_instance_with_pk_equals_none (model_inheritance_regress.tests.ModelInheritanceTest)', 'test_create_new_instance_with_pk_equals_none_multi_inheritance (model_inheritance_regress.tests.ModelInheritanceTest)']}, 'PASS_TO_PASS': {'success': ['test_abstract_base_class_m2m_relation_inheritance (model_inheritance_regress.tests.ModelInheritanceTest)', 'test_abstract_verbose_name_plural_inheritance (model_inheritance_regress.tests.ModelInheritanceTest)', 'test_all_fields_from_abstract_base_class (model_inheritance_regress.tests.ModelInheritanceTest)', 'test_concrete_abstract_concrete_pk (model_inheritance_regress.tests.ModelInheritanceTest)', 'test_filter_with_parent_fk (model_inheritance_regress.tests.ModelInheritanceTest)', 'test_get_next_previous_by_date (model_inheritance_regress.tests.ModelInheritanceTest)', 'test_id_field_update_on_ancestor_change (model_inheritance_regress.tests.ModelInheritanceTest)', 'test_inheritance_joins (model_inheritance_regress.tests.ModelInheritanceTest)', 'test_inheritance_resolve_columns (model_inheritance_regress.tests.ModelInheritanceTest)', 'test_inheritance_select_related (model_inheritance_regress.tests.ModelInheritanceTest)', 'test_inherited_fields (model_inheritance_regress.tests.ModelInheritanceTest)', 'test_inherited_nullable_exclude (model_inheritance_regress.tests.ModelInheritanceTest)', 'test_inherited_unique_field_with_form (model_inheritance_regress.tests.ModelInheritanceTest)', 'test_issue_11764 (model_inheritance_regress.tests.ModelInheritanceTest)', 'test_issue_21554 (model_inheritance_regress.tests.ModelInheritanceTest)', 'test_issue_6755 (model_inheritance_regress.tests.ModelInheritanceTest)', 'test_issue_7105 (model_inheritance_regress.tests.ModelInheritanceTest)', 'test_issue_7276 (model_inheritance_regress.tests.ModelInheritanceTest)', 'test_issue_7488 (model_inheritance_regress.tests.ModelInheritanceTest)', 'test_issue_7853 (model_inheritance_regress.tests.ModelInheritanceTest)', 'test_model_inheritance (model_inheritance_regress.tests.ModelInheritanceTest)', 'test_ptr_accessor_assigns_state (model_inheritance_regress.tests.ModelInheritanceTest)', 'test_queries_on_parent_access (model_inheritance_regress.tests.ModelInheritanceTest)', 'test_queryset_update_on_parent_model (model_inheritance_regress.tests.ModelInheritanceTest)', 'test_related_filtering_query_efficiency_ticket_15844 (model_inheritance_regress.tests.ModelInheritanceTest)', 'test_use_explicit_o2o_to_parent_as_pk (model_inheritance_regress.tests.ModelInheritanceTest)', 'test_use_explicit_o2o_to_parent_from_abstract_model (model_inheritance_regress.tests.ModelInheritanceTest)'], 'failure': []}, 'FAIL_TO_FAIL': {'success': [], 'failure': []}, 'PASS_TO_FAIL': {'success': [], 'failure': []}}}}\n",
      "{'astropy__astropy-12907': True, 'astropy__astropy-13033': False, 'astropy__astropy-13236': False, 'astropy__astropy-13398': False, 'astropy__astropy-13453': False, 'astropy__astropy-13579': True, 'astropy__astropy-14096': True, 'astropy__astropy-14182': False, 'astropy__astropy-14309': True, 'astropy__astropy-14365': False, 'astropy__astropy-14369': False, 'astropy__astropy-14508': True, 'astropy__astropy-14539': True, 'astropy__astropy-14598': False, 'astropy__astropy-14995': True, 'astropy__astropy-7166': True, 'astropy__astropy-7336': True, 'astropy__astropy-7606': False, 'astropy__astropy-7671': True, 'astropy__astropy-8707': False, 'django__django-10097': False, 'django__django-10554': False, 'django__django-10880': True, 'django__django-10914': True, 'django__django-10973': True, 'django__django-10999': False, 'django__django-11066': True, 'django__django-11087': False, 'django__django-11095': True, 'django__django-11099': True, 'django__django-11119': True, 'django__django-11133': True, 'django__django-11138': False, 'django__django-11141': False, 'django__django-11149': True, 'django__django-11163': True, 'django__django-11179': True, 'django__django-11206': False, 'django__django-11211': True, 'django__django-11239': False, 'django__django-11265': False, 'django__django-11276': True, 'django__django-11292': True, 'django__django-11333': True, 'django__django-11400': False, 'django__django-11433': False, 'django__django-11451': True, 'django__django-11477': False, 'django__django-11490': False, 'django__django-11532': True, 'django__django-11551': True, 'django__django-11555': False, 'django__django-11603': True, 'django__django-11728': False, 'django__django-11734': False, 'django__django-11749': True, 'django__django-11790': False, 'django__django-11815': True, 'django__django-11820': False, 'django__django-11848': False, 'django__django-11880': True, 'django__django-11951': True, 'django__django-11964': False, 'django__django-11999': True, 'django__django-12039': False, 'django__django-12050': True, 'django__django-12125': False, 'django__django-12143': True, 'django__django-12193': True, 'django__django-12209': True, 'django__django-12262': True, 'django__django-12273': True}\n",
      "django__django-12273/1733755349/run_instance.log\n",
      "['django__django-12273', '1733755349', 'run_instance.log']\n",
      "django__django-12273/1733755349/test_output.txt\n",
      "['django__django-12273', '1733755349', 'test_output.txt']\n"
     ]
    },
    {
     "name": "stderr",
     "output_type": "stream",
     "text": [
      "2024-12-11 15:22:04,153 - INFO - Finished processing all blobs.\n",
      "2024-12-11 15:22:04,154 - INFO - Instance statuses written to passing_and_traj_complete_instances_from_bucket.json\n"
     ]
    },
    {
     "name": "stdout",
     "output_type": "stream",
     "text": [
      "Found 840 json reports\n",
      "Instances count: 420\n"
     ]
    }
   ],
   "source": [
    "from google.cloud import storage\n",
    "import json\n",
    "import logging\n",
    "\n",
    "# Set up logging\n",
    "logging.basicConfig(level=logging.INFO, format='%(asctime)s - %(levelname)s - %(message)s')\n",
    "\n",
    "bucket_name = \"swebench_logs\"\n",
    "output_file = \"passing_and_traj_complete_instances_from_bucket.json\"\n",
    "\n",
    "client = storage.Client()\n",
    "bucket = client.bucket(bucket_name)\n",
    "\n",
    "instance_status = {}\n",
    "\n",
    "logging.info(f\"Starting to process blobs in bucket: {bucket_name}\")\n",
    "\n",
    "json_reports = []\n",
    "\n",
    "for blob in bucket.list_blobs():\n",
    "    parts = blob.name.split('/')\n",
    "    # We expect something like: instance_id/run_id/report.json\n",
    "    # So we need at least 3 parts after splitting by '/'\n",
    "    # Example: [\"<instance_id>\", \"<run_id>\", \"report.json\"]\n",
    "    # if len(parts) < 3:\n",
    "    #     logging.warning(f\"Skipping blob {blob.name} as it does not match the expected structure\")\n",
    "    #     continue\n",
    "    \n",
    "    # filename = parts[-1]\n",
    "\n",
    "    if blob.name.endswith('report.json'):\n",
    "        instance_id = parts[0]\n",
    "        run_id = parts[1]\n",
    "\n",
    "        # Add the instance_id to the list of json_reports\n",
    "        json_reports.append(instance_id)\n",
    "\n",
    "        # Download and parse the JSON\n",
    "        data = json.loads(blob.download_as_string())\n",
    "\n",
    "        # The JSON should have a top-level key = instance_id, which has an object including 'resolved'\n",
    "        instance_data = data.get(instance_id)\n",
    "        if instance_data is None:\n",
    "            logging.error(f\"[{instance_id}]: {run_id} missing instance data in report.json\")\n",
    "        else:\n",
    "            resolved = instance_data.get(\"resolved\")\n",
    "            if resolved is None:\n",
    "                logging.error(f\"[{instance_id}]: {run_id} missing 'resolved' field in report.json\")\n",
    "            else:\n",
    "                resolved = bool(resolved)\n",
    "\n",
    "        # If we haven't tracked this instance_id yet, initialize it\n",
    "        if instance_id not in instance_status:\n",
    "            instance_status[instance_id] = False\n",
    "\n",
    "        # If this run for the instance is resolved, mark the instance as success\n",
    "        if resolved == True:\n",
    "            instance_status[instance_id] = True\n",
    "\n",
    "logging.info(\"Finished processing all blobs.\")\n",
    "\n",
    "print(f\"Found {len(json_reports)} json reports\")\n",
    "\n",
    "# Print instances count\n",
    "print(f\"Instances count: {len(instance_status)}\")\n",
    "# After processing all, write the instance_status map to a local JSON file\n",
    "with open(output_file, 'w') as f:\n",
    "    json.dump(instance_status, f, indent=2)\n",
    "\n",
    "logging.info(f\"Instance statuses written to {output_file}\")"
   ]
  }
 ],
 "metadata": {
  "kernelspec": {
   "display_name": "venv",
   "language": "python",
   "name": "python3"
  },
  "language_info": {
   "codemirror_mode": {
    "name": "ipython",
    "version": 3
   },
   "file_extension": ".py",
   "mimetype": "text/x-python",
   "name": "python",
   "nbconvert_exporter": "python",
   "pygments_lexer": "ipython3",
   "version": "3.11.6"
  }
 },
 "nbformat": 4,
 "nbformat_minor": 2
}
